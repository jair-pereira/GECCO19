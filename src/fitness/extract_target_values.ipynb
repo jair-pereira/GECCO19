{
 "cells": [
  {
   "cell_type": "code",
   "execution_count": 1,
   "metadata": {},
   "outputs": [
    {
     "name": "stderr",
     "output_type": "stream",
     "text": [
      "C:\\IntelPython3\\lib\\site-packages\\cocopp-0.0.0-py3.6.egg\\cocopp\\toolsdivers.py:13: UserWarning: Module cocoex was already imported from C:\\Users\\jjunior\\AppData\\Roaming\\Python\\Python36\\site-packages\\cocoex-0.0.0-py3.6-win-amd64.egg\\cocoex\\__init__.py, but c:\\users\\jjunior\\documents\\github\\gecco19\\bbob_modified is being added to sys.path\n",
      "  import pkg_resources\n"
     ]
    }
   ],
   "source": [
    "from __future__ import division, print_function\n",
    "import cocoex, cocopp"
   ]
  },
  {
   "cell_type": "code",
   "execution_count": 2,
   "metadata": {},
   "outputs": [
    {
     "data": {
      "text/plain": [
       "2160"
      ]
     },
     "execution_count": 2,
     "metadata": {},
     "output_type": "execute_result"
    }
   ],
   "source": [
    "suite = cocoex.Suite(\"bbob\", \"\", \"\")\n",
    "d = {}\n",
    "for p in suite:\n",
    "     d[p.id] = p.final_target_fvalue1\n",
    "        \n",
    "len(d)"
   ]
  },
  {
   "cell_type": "code",
   "execution_count": 3,
   "metadata": {},
   "outputs": [],
   "source": [
    "import pickle\n",
    "\n",
    "file = open(\"bbob_final_target_fvalue1.pkl\", 'a+b')\n",
    "pickle.dump(d, file)\n",
    "file.close()"
   ]
  },
  {
   "cell_type": "code",
   "execution_count": 4,
   "metadata": {},
   "outputs": [
    {
     "data": {
      "text/plain": [
       "True"
      ]
     },
     "execution_count": 4,
     "metadata": {},
     "output_type": "execute_result"
    }
   ],
   "source": [
    "file = open(\"bbob_final_target_fvalue1.pickle\",'rb')  \n",
    "data = pickle.load(file)\n",
    "\n",
    "data == d"
   ]
  }
 ],
 "metadata": {
  "kernelspec": {
   "display_name": "Python 3",
   "language": "python",
   "name": "python3"
  },
  "language_info": {
   "codemirror_mode": {
    "name": "ipython",
    "version": 3
   },
   "file_extension": ".py",
   "mimetype": "text/x-python",
   "name": "python",
   "nbconvert_exporter": "python",
   "pygments_lexer": "ipython3",
   "version": "3.6.5"
  }
 },
 "nbformat": 4,
 "nbformat_minor": 2
}
