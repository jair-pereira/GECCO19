{
 "cells": [
  {
   "cell_type": "code",
   "execution_count": null,
   "metadata": {},
   "outputs": [],
   "source": [
    "from src.solution import *\n",
    "import src.operators as op\n",
    "import testFunctions as tf\n",
    "import numpy as np"
   ]
  },
  {
   "cell_type": "code",
   "execution_count": null,
   "metadata": {},
   "outputs": [],
   "source": [
    "Solution.setProblem(tf.ackley_function, (-1,+1), 5, maximize=False)\n",
    "X = Solution.initialize(4)\n",
    "for Xi in X:    Xi.setX(op.init_random(*Solution.bounds, Solution.dimension))\n",
    "[Xi.getFitness() for Xi in X], \"nfe: \"+str(Solution.nfe), Solution.best.fitness\n",
    "[Xi.updatePBest() for Xi in X]\n",
    "\n",
    "op.param = {\"w\":1,\"c1\":1,\"c2\":1,\"alpha\":.7,\"beta\":.5,\"pr\":.6}"
   ]
  },
  {
   "cell_type": "code",
   "execution_count": null,
   "metadata": {},
   "outputs": [],
   "source": [
    "## be sure it really does what you think\n",
    "\n",
    "U = X\n",
    "round:\n",
    "    #input selection\n",
    "    S1 = op.select_random(U, 1)\n",
    "    S2 = op.select_random(U, 1)\n",
    "    S  = np.append(S1, S2, axis=1)\n",
    "    #operator\n",
    "    V = op.w_crx_blend(S)\n",
    "    #update rule\n",
    "    U = op.pool(U, V)\n",
    "#     U = op.replace_if_best(U, V)\n",
    "\n",
    "X = U"
   ]
  },
  {
   "cell_type": "code",
   "execution_count": null,
   "metadata": {
    "scrolled": true
   },
   "outputs": [],
   "source": []
  },
  {
   "cell_type": "code",
   "execution_count": null,
   "metadata": {},
   "outputs": [],
   "source": []
  },
  {
   "cell_type": "code",
   "execution_count": null,
   "metadata": {},
   "outputs": [],
   "source": []
  },
  {
   "cell_type": "code",
   "execution_count": null,
   "metadata": {},
   "outputs": [],
   "source": []
  },
  {
   "cell_type": "code",
   "execution_count": null,
   "metadata": {},
   "outputs": [],
   "source": []
  },
  {
   "cell_type": "code",
   "execution_count": null,
   "metadata": {},
   "outputs": [],
   "source": []
  },
  {
   "cell_type": "code",
   "execution_count": null,
   "metadata": {},
   "outputs": [],
   "source": []
  },
  {
   "cell_type": "code",
   "execution_count": null,
   "metadata": {},
   "outputs": [],
   "source": []
  },
  {
   "cell_type": "code",
   "execution_count": null,
   "metadata": {},
   "outputs": [],
   "source": [
    "s1 = op.select_current(X)\n",
    "# s2 = op.select_current(X)\n",
    "s3 = op.select_random(X, 1)\n",
    "# S = np.append(s1, s3, axis=1)\n",
    "S = s1\n",
    "s1"
   ]
  },
  {
   "cell_type": "code",
   "execution_count": null,
   "metadata": {},
   "outputs": [],
   "source": []
  },
  {
   "cell_type": "code",
   "execution_count": null,
   "metadata": {},
   "outputs": [],
   "source": []
  }
 ],
 "metadata": {
  "kernelspec": {
   "display_name": "Python 3",
   "language": "python",
   "name": "python3"
  },
  "language_info": {
   "codemirror_mode": {
    "name": "ipython",
    "version": 3
   },
   "file_extension": ".py",
   "mimetype": "text/x-python",
   "name": "python",
   "nbconvert_exporter": "python",
   "pygments_lexer": "ipython3",
   "version": "3.6.5"
  }
 },
 "nbformat": 4,
 "nbformat_minor": 2
}
