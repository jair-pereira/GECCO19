{
 "cells": [
  {
   "cell_type": "code",
   "execution_count": 1,
   "metadata": {},
   "outputs": [],
   "source": [
    "from src.solution import *\n",
    "import src.operators as op\n",
    "import testFunctions as tf\n",
    "import numpy as np"
   ]
  },
  {
   "cell_type": "code",
   "execution_count": 2,
   "metadata": {},
   "outputs": [],
   "source": [
    "Solution.setProblem(tf.ackley_function, (-1,+1), 5, maximize=False)\n",
    "X = Solution.initialize(4)\n",
    "for Xi in X:    Xi.setX(op.init_random(*Solution.bounds, Solution.dimension))\n",
    "[Xi.getFitness() for Xi in X], \"nfe: \"+str(Solution.nfe), Solution.best.fitness\n",
    "[Xi.updatePBest() for Xi in X]\n",
    "\n",
    "op.param = {\"w\":1,\"c1\":1,\"c2\":1,\"alpha\":.7,\"beta\":.5,\"pr\":.6}"
   ]
  },
  {
   "cell_type": "code",
   "execution_count": null,
   "metadata": {},
   "outputs": [],
   "source": [
    "## be sure it really does what you think\n",
    "\n",
    "U = X\n",
    "round:\n",
    "    #input selection\n",
    "    S1 = op.select_random(U, 1)\n",
    "    S2 = op.select_random(U, 1)\n",
    "    S  = np.append(S1, S2, axis=1)\n",
    "    #operator\n",
    "    V = op.w_crx_blend(S)\n",
    "    #update rule\n",
    "    U = op.pool(U, V)\n",
    "#     U = op.replace_if_best(U, V)\n",
    "X = U"
   ]
  },
  {
   "cell_type": "code",
   "execution_count": 8,
   "metadata": {
    "scrolled": true
   },
   "outputs": [
    {
     "data": {
      "text/plain": [
       "array([ 0.3523674 ,  0.96937127,  0.17209415, -0.16955068, -0.21302916])"
      ]
     },
     "execution_count": 8,
     "metadata": {},
     "output_type": "execute_result"
    }
   ],
   "source": [
    "u = np.array([xi for xi in X[0].x])\n",
    "u"
   ]
  },
  {
   "cell_type": "code",
   "execution_count": 15,
   "metadata": {},
   "outputs": [
    {
     "data": {
      "text/plain": [
       "(array([False,  True, False, False, False]),\n",
       " array([False, False, False,  True,  True]))"
      ]
     },
     "execution_count": 15,
     "metadata": {},
     "output_type": "execute_result"
    }
   ],
   "source": [
    "ind_ub = u>.4\n",
    "ind_lb = u<0\n",
    "\n",
    "ind_ub, ind_lb"
   ]
  },
  {
   "cell_type": "code",
   "execution_count": 34,
   "metadata": {},
   "outputs": [
    {
     "data": {
      "text/plain": [
       "array([0, 0, 0, 0])"
      ]
     },
     "execution_count": 34,
     "metadata": {},
     "output_type": "execute_result"
    }
   ],
   "source": [
    "indices = (u>11) + (u<5)\n",
    "u[indices]"
   ]
  },
  {
   "cell_type": "code",
   "execution_count": 33,
   "metadata": {},
   "outputs": [],
   "source": [
    "u = np.array([0, 0, 10, 10, 0, 0])"
   ]
  },
  {
   "cell_type": "code",
   "execution_count": 14,
   "metadata": {},
   "outputs": [
    {
     "data": {
      "text/plain": [
       "array([ True,  True,  True,  True,  True])"
      ]
     },
     "execution_count": 14,
     "metadata": {},
     "output_type": "execute_result"
    }
   ],
   "source": [
    "ind_ub + ind_lb"
   ]
  },
  {
   "cell_type": "code",
   "execution_count": 47,
   "metadata": {},
   "outputs": [
    {
     "data": {
      "text/plain": [
       "array([-2, -4, 10, 10, -5, -3])"
      ]
     },
     "execution_count": 47,
     "metadata": {},
     "output_type": "execute_result"
    }
   ],
   "source": [
    "u[indices] = np.random.uniform(-10, -1, len(u[indices]))\n",
    "u"
   ]
  },
  {
   "cell_type": "code",
   "execution_count": 32,
   "metadata": {},
   "outputs": [
    {
     "data": {
      "text/plain": [
       "array([0.3523674 , 0.2120326 , 0.17209415, 0.39710522, 0.29063104])"
      ]
     },
     "execution_count": 32,
     "metadata": {},
     "output_type": "execute_result"
    }
   ],
   "source": [
    "u"
   ]
  },
  {
   "cell_type": "code",
   "execution_count": 53,
   "metadata": {},
   "outputs": [
    {
     "data": {
      "text/plain": [
       "array([[<src.solution.Solution object at 0x000001A4ED808EB8>,\n",
       "        <src.solution.Solution object at 0x000001A4ED808DD8>],\n",
       "       [<src.solution.Solution object at 0x000001A4ED808EB8>,\n",
       "        <src.solution.Solution object at 0x000001A4ED808DD8>],\n",
       "       [<src.solution.Solution object at 0x000001A4ED808DD8>,\n",
       "        <src.solution.Solution object at 0x000001A4ED808E80>],\n",
       "       [<src.solution.Solution object at 0x000001A4ED808DD8>,\n",
       "        <src.solution.Solution object at 0x000001A4ED808E80>]],\n",
       "      dtype=object)"
      ]
     },
     "execution_count": 53,
     "metadata": {},
     "output_type": "execute_result"
    }
   ],
   "source": [
    "def select_random(X, n):\n",
    "    \"\"\" Selects n exclusively and randomly candidate solutions from X\n",
    "    :param X: list of candidate solutions\n",
    "    :param n: the number of individuals selected\n",
    "    :returns: A list of references of the selected candidate solutions. \"\"\"\n",
    "    s = [np.random.choice(X, n, replace=False) for _ in range(len(X))]\n",
    "    return np.array(s)\n",
    "\n",
    "def select_tournament(X, n, k): \n",
    "    \"\"\" Selects n exclusively candidate solutions from X through tournament of group size k\n",
    "    :param X: list of candidate solutions\n",
    "    :param n: the number of individuals selected\n",
    "    :param k: group size\n",
    "    :returns: A list of references of the selected candidate solutions. \"\"\"\n",
    "    s = [np.sort(r)[::-1][:n] for r in select_random(X, k)]\n",
    "    return np.array(s)\n",
    "\n",
    "select_tournament(X, 2, 2)"
   ]
  },
  {
   "cell_type": "code",
   "execution_count": 52,
   "metadata": {},
   "outputs": [
    {
     "data": {
      "text/plain": [
       "array([[<src.solution.Solution object at 0x000001A4ED808E48>],\n",
       "       [<src.solution.Solution object at 0x000001A4ED808DD8>],\n",
       "       [<src.solution.Solution object at 0x000001A4ED808EB8>],\n",
       "       [<src.solution.Solution object at 0x000001A4ED808EB8>]],\n",
       "      dtype=object)"
      ]
     },
     "execution_count": 52,
     "metadata": {},
     "output_type": "execute_result"
    }
   ],
   "source": [
    "select_random(X, 1)"
   ]
  },
  {
   "cell_type": "code",
   "execution_count": null,
   "metadata": {},
   "outputs": [],
   "source": [
    "s1 = op.select_current(X)\n",
    "# s2 = op.select_current(X)\n",
    "s3 = op.select_random(X, 1)\n",
    "# S = np.append(s1, s3, axis=1)\n",
    "S = s1\n",
    "s1"
   ]
  },
  {
   "cell_type": "code",
   "execution_count": null,
   "metadata": {},
   "outputs": [],
   "source": []
  },
  {
   "cell_type": "code",
   "execution_count": null,
   "metadata": {},
   "outputs": [],
   "source": []
  }
 ],
 "metadata": {
  "kernelspec": {
   "display_name": "Python 3",
   "language": "python",
   "name": "python3"
  },
  "language_info": {
   "codemirror_mode": {
    "name": "ipython",
    "version": 3
   },
   "file_extension": ".py",
   "mimetype": "text/x-python",
   "name": "python",
   "nbconvert_exporter": "python",
   "pygments_lexer": "ipython3",
   "version": "3.6.5"
  }
 },
 "nbformat": 4,
 "nbformat_minor": 2
}
