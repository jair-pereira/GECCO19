{
 "cells": [
  {
   "cell_type": "code",
   "execution_count": 1,
   "metadata": {},
   "outputs": [],
   "source": [
    "import cocoex, cocopp"
   ]
  },
  {
   "cell_type": "code",
   "execution_count": 2,
   "metadata": {},
   "outputs": [
    {
     "data": {
      "text/plain": [
       "{'bbob_f001_i01_d02': 79.48000001,\n",
       " 'bbob_f001_i02_d02': 394.48000001,\n",
       " 'bbob_f001_i03_d02': -247.10999999,\n",
       " 'bbob_f001_i04_d02': -152.03999998999998,\n",
       " 'bbob_f001_i05_d02': -25.24999999,\n",
       " 'bbob_f001_i71_d02': 183.01000001,\n",
       " 'bbob_f001_i72_d02': 183.52000001000002,\n",
       " 'bbob_f001_i73_d02': -593.83999999,\n",
       " 'bbob_f001_i74_d02': -999.99999999,\n",
       " 'bbob_f001_i75_d02': -25.309999989999998,\n",
       " 'bbob_f001_i76_d02': 22.280000010000002,\n",
       " 'bbob_f001_i77_d02': 356.14000001,\n",
       " 'bbob_f001_i78_d02': -475.69999999,\n",
       " 'bbob_f001_i79_d02': -999.99999999,\n",
       " 'bbob_f001_i80_d02': -41.57999999}"
      ]
     },
     "execution_count": 2,
     "metadata": {},
     "output_type": "execute_result"
    }
   ],
   "source": [
    "import pickle\n",
    "\n",
    "suite = cocoex.Suite(\"bbob\", \"\", \"function_indices:1 dimensions:2 instance_indices:1-15\")\n",
    "d = {}\n",
    "for p in suite:\n",
    "     d[p.id] = p.final_target_fvalue1\n",
    "        \n",
    "d"
   ]
  },
  {
   "cell_type": "code",
   "execution_count": null,
   "metadata": {},
   "outputs": [],
   "source": []
  },
  {
   "cell_type": "code",
   "execution_count": null,
   "metadata": {},
   "outputs": [],
   "source": []
  },
  {
   "cell_type": "code",
   "execution_count": null,
   "metadata": {},
   "outputs": [],
   "source": []
  }
 ],
 "metadata": {
  "kernelspec": {
   "display_name": "Python 3",
   "language": "python",
   "name": "python3"
  },
  "language_info": {
   "codemirror_mode": {
    "name": "ipython",
    "version": 3
   },
   "file_extension": ".py",
   "mimetype": "text/x-python",
   "name": "python",
   "nbconvert_exporter": "python",
   "pygments_lexer": "ipython3",
   "version": "3.6.5"
  }
 },
 "nbformat": 4,
 "nbformat_minor": 2
}
