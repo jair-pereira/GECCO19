{
 "cells": [
  {
   "cell_type": "code",
   "execution_count": 1,
   "metadata": {},
   "outputs": [],
   "source": [
    "import numpy as np\n",
    "from src import *\n",
    "import testFunctions as tf\n",
    "from animation import animation\n",
    "\n",
    "def ge(n, my_func, bounds, dimension, max_nfe):\n",
    "    Solution.setProblem(my_func, bounds, dimension, maximize=False)\n",
    "    X = Solution.initialize(n)\n",
    "    for Xi in X:    Xi.setX(op.init_random(*Solution.bounds, Solution.dimension))\n",
    "    [Xi.getFitness() for Xi in X]\n",
    "    Solution.updateHistory(X)\n",
    "    \n",
    "    while Solution.nfe < max_nfe:\n",
    "        S1 = op.select_current(X)\n",
    "        U = op.w_mut_uni(S1, pr=0.25)\n",
    "        X = U\n",
    "        \n",
    "        S1 = op.select_random(X, 1)\n",
    "        U = op.w_levy_flight(S1)\n",
    "        X = U\n",
    "        \n",
    "        S1 = op.select_tournament(X, n=1, k=1)\n",
    "        S2 = op.select_random(X, 1)\n",
    "        S3 =op.select_current(X)\n",
    "        U = op.w_mut_de(S1, S2, S3, beta=2.00)\n",
    "        X = op.replace_if_best(X, U)\n",
    "        \n",
    "        X = op.drop_worst(X, pr=1.00)\n",
    "        [Xi.getFitness() for Xi in X]\n",
    "    return X"
   ]
  },
  {
   "cell_type": "code",
   "execution_count": 2,
   "metadata": {},
   "outputs": [],
   "source": [
    "result = ge(n=50, my_func=tf.ackley_function, bounds=(-15,15), dimension=40, max_nfe=1000)"
   ]
  },
  {
   "cell_type": "code",
   "execution_count": null,
   "metadata": {},
   "outputs": [],
   "source": []
  }
 ],
 "metadata": {
  "kernelspec": {
   "display_name": "Python 3",
   "language": "python",
   "name": "python3"
  },
  "language_info": {
   "codemirror_mode": {
    "name": "ipython",
    "version": 3
   },
   "file_extension": ".py",
   "mimetype": "text/x-python",
   "name": "python",
   "nbconvert_exporter": "python",
   "pygments_lexer": "ipython3",
   "version": "3.6.5"
  }
 },
 "nbformat": 4,
 "nbformat_minor": 2
}
