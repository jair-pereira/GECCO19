{
 "cells": [
  {
   "cell_type": "code",
   "execution_count": 1,
   "metadata": {},
   "outputs": [],
   "source": [
    "from src.solution import *\n",
    "import src.operators as op\n",
    "import testFunctions as tf\n",
    "import numpy as np"
   ]
  },
  {
   "cell_type": "code",
   "execution_count": 2,
   "metadata": {},
   "outputs": [],
   "source": [
    "## PARAMETERS\n",
    "bounds = (-15, +15)\n",
    "dim = 40\n",
    "n = 100\n",
    "my_func = tf.ackley_function\n",
    "nfe = 1000"
   ]
  },
  {
   "cell_type": "code",
   "execution_count": 3,
   "metadata": {},
   "outputs": [],
   "source": [
    "## INIT\n",
    "Solution.setProblem(my_func, (bounds), dim, maximize=False)\n",
    "X = Solution.initialize(n)\n",
    "for Xi in X:    Xi.setX(op.init_random(*Solution.bounds, Solution.dimension))\n",
    "[Xi.getFitness() for Xi in X], \"nfe: \"+str(Solution.nfe), Solution.best.fitness\n",
    "Solution.updateHistory(X)\n",
    "\n",
    "op.param = {\"w\":1,\"c1\":1,\"c2\":1,\"alpha\":.7,\"beta\":.5,\"pr\":.6}\n",
    "Solution.repair = op.repair_truncate"
   ]
  },
  {
   "cell_type": "code",
   "execution_count": 4,
   "metadata": {},
   "outputs": [
    {
     "ename": "NameError",
     "evalue": "name 'U' is not defined",
     "output_type": "error",
     "traceback": [
      "\u001b[1;31m---------------------------------------------------------------------------\u001b[0m",
      "\u001b[1;31mNameError\u001b[0m                                 Traceback (most recent call last)",
      "\u001b[1;32m<ipython-input-4-e303b9aeee80>\u001b[0m in \u001b[0;36m<module>\u001b[1;34m()\u001b[0m\n\u001b[0;32m     17\u001b[0m     \u001b[0mS\u001b[0m \u001b[1;33m=\u001b[0m \u001b[0mop\u001b[0m\u001b[1;33m.\u001b[0m\u001b[0mselect_current\u001b[0m\u001b[1;33m(\u001b[0m\u001b[0mX\u001b[0m\u001b[1;33m)\u001b[0m\u001b[1;33m\u001b[0m\u001b[0m\n\u001b[0;32m     18\u001b[0m     \u001b[1;31m## select from the pool (handled by grammar)\u001b[0m\u001b[1;33m\u001b[0m\u001b[1;33m\u001b[0m\u001b[0m\n\u001b[1;32m---> 19\u001b[1;33m     \u001b[0mS\u001b[0m  \u001b[1;33m=\u001b[0m \u001b[0mnp\u001b[0m\u001b[1;33m.\u001b[0m\u001b[0mappend\u001b[0m\u001b[1;33m(\u001b[0m\u001b[0mS\u001b[0m\u001b[1;33m,\u001b[0m \u001b[0mU\u001b[0m\u001b[1;33m,\u001b[0m \u001b[0maxis\u001b[0m\u001b[1;33m=\u001b[0m\u001b[1;36m1\u001b[0m\u001b[1;33m)\u001b[0m\u001b[1;33m\u001b[0m\u001b[0m\n\u001b[0m\u001b[0;32m     20\u001b[0m     \u001b[1;31m#move\u001b[0m\u001b[1;33m\u001b[0m\u001b[1;33m\u001b[0m\u001b[0m\n\u001b[0;32m     21\u001b[0m     \u001b[0mU2\u001b[0m \u001b[1;33m=\u001b[0m \u001b[0mw_crx_exp\u001b[0m\u001b[1;33m(\u001b[0m\u001b[0mS\u001b[0m\u001b[1;33m)\u001b[0m\u001b[1;33m\u001b[0m\u001b[0m\n",
      "\u001b[1;31mNameError\u001b[0m: name 'U' is not defined"
     ]
    }
   ],
   "source": [
    "## LOOP\n",
    "while Solution.nfe < nfe:\n",
    "    #FIRST OPERATOR\n",
    "    #select\n",
    "    S1 = op.select_random(X, 1)\n",
    "    S2 = op.select_random(X, 1)\n",
    "    S3 = op.select_random(X, 1)\n",
    "    S  = np.append(S1, S2, axis=1)\n",
    "    S  = np.append(S, S3, axis=1)\n",
    "    #move\n",
    "    U1 = op.w_mut_de(S)\n",
    "    #update-rule\n",
    "    ## keep in the pool (handled by grammar)\n",
    "    \n",
    "    #SECOND OPERATOR\n",
    "    #select\n",
    "    S = op.select_current(X)\n",
    "    ## select from the pool (handled by grammar)\n",
    "    S  = np.append(S, U1, axis=1) \n",
    "    #move\n",
    "    U2 = w_crx_exp(S)\n",
    "    #update-rule\n",
    "    X = replace_if_best(X, U2)\n",
    "    \n",
    "    Solution.updateHistory(X)"
   ]
  },
  {
   "cell_type": "code",
   "execution_count": null,
   "metadata": {},
   "outputs": [],
   "source": [
    "## RESULTS\n",
    "from animation import animation\n",
    "print(\"nfe: \"+str(Solution.nfe))\n",
    "print(\"best f: \"+str(Solution.best.fitness))\n",
    "animation(Solution.history, my_func, *bounds, jupyter=True)"
   ]
  }
 ],
 "metadata": {
  "kernelspec": {
   "display_name": "Python 3",
   "language": "python",
   "name": "python3"
  },
  "language_info": {
   "codemirror_mode": {
    "name": "ipython",
    "version": 3
   },
   "file_extension": ".py",
   "mimetype": "text/x-python",
   "name": "python",
   "nbconvert_exporter": "python",
   "pygments_lexer": "ipython3",
   "version": "3.6.5"
  }
 },
 "nbformat": 4,
 "nbformat_minor": 2
}
