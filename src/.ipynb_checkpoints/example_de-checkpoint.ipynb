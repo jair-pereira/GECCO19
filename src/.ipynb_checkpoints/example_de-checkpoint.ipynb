{
 "cells": [
  {
   "cell_type": "code",
   "execution_count": null,
   "metadata": {},
   "outputs": [],
   "source": [
    "from src.solution import *\n",
    "import src.operators as op\n",
    "import testFunctions as tf\n",
    "import numpy as np"
   ]
  },
  {
   "cell_type": "code",
   "execution_count": null,
   "metadata": {},
   "outputs": [],
   "source": [
    "## PARAMETERS\n",
    "bounds = (-15, +15)\n",
    "dim = 40\n",
    "n = 100\n",
    "my_func = tf.ackley_function\n",
    "nfe = 1000"
   ]
  },
  {
   "cell_type": "code",
   "execution_count": null,
   "metadata": {},
   "outputs": [],
   "source": [
    "## INIT\n",
    "Solution.setProblem(my_func, (bounds), dim, maximize=False)\n",
    "X = Solution.initialize(n)\n",
    "for Xi in X:    Xi.setX(op.init_random(*Solution.bounds, Solution.dimension))\n",
    "[Xi.getFitness() for Xi in X], \"nfe: \"+str(Solution.nfe), Solution.best.fitness\n",
    "Solution.updateHistory(X)\n",
    "\n",
    "op.param = {\"w\":1,\"c1\":1,\"c2\":1,\"alpha\":.7,\"beta\":.5,\"pr\":.6}\n",
    "Solution.repair = op.repair_truncate"
   ]
  },
  {
   "cell_type": "code",
   "execution_count": null,
   "metadata": {},
   "outputs": [],
   "source": [
    "## LOOP\n",
    "while Solution.nfe < nfe:\n",
    "    #FIRST OPERATOR\n",
    "    #select\n",
    "    S1 = op.select_random(X, 1)\n",
    "    S2 = op.select_random(X, 1)\n",
    "    S3 = op.select_random(X, 1)\n",
    "    S  = np.append(S1, S2, axis=1)\n",
    "    S  = np.append(S, S3, axis=1)\n",
    "    #move\n",
    "    U1 = op.w_mut_de(S)\n",
    "    #update-rule\n",
    "    ## keep in the pool (handled by grammar)\n",
    "    \n",
    "    #SECOND OPERATOR\n",
    "    #select\n",
    "    S1 = op.select_current(X)\n",
    "    S2 = op.select_current(U1) # select from the pool (handled by grammar)\n",
    "    S  = np.append(S1, S2, axis=1) \n",
    "    #move\n",
    "    U2 = op.w_crx_exp(S)\n",
    "    #update-rule\n",
    "    X = op.replace_if_best(X, U2)\n",
    "    \n",
    "    Solution.updateHistory(X)"
   ]
  },
  {
   "cell_type": "code",
   "execution_count": null,
   "metadata": {},
   "outputs": [],
   "source": [
    "## RESULTS\n",
    "from animation import animation\n",
    "print(\"nfe: \"+str(Solution.nfe))\n",
    "print(\"best f: \"+str(Solution.best.fitness))\n",
    "animation(Solution.history, my_func, *bounds, jupyter=True)"
   ]
  },
  {
   "cell_type": "code",
   "execution_count": null,
   "metadata": {},
   "outputs": [],
   "source": [
    "S1 = [1,1,1,1]\n",
    "S2 = [2,2,2,2]\n",
    "\n"
   ]
  },
  {
   "cell_type": "code",
   "execution_count": null,
   "metadata": {},
   "outputs": [],
   "source": [
    "u = np.array([crx_blend(X1.x, X2.x, alpha) for X1, X2 in S])"
   ]
  }
 ],
 "metadata": {
  "kernelspec": {
   "display_name": "Python 3",
   "language": "python",
   "name": "python3"
  },
  "language_info": {
   "codemirror_mode": {
    "name": "ipython",
    "version": 3
   },
   "file_extension": ".py",
   "mimetype": "text/x-python",
   "name": "python",
   "nbconvert_exporter": "python",
   "pygments_lexer": "ipython3",
   "version": "3.6.5"
  }
 },
 "nbformat": 4,
 "nbformat_minor": 2
}
