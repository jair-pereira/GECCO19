{
 "cells": [
  {
   "cell_type": "code",
   "execution_count": 1,
   "metadata": {},
   "outputs": [
    {
     "ename": "NameError",
     "evalue": "name 'my_func' is not defined",
     "output_type": "error",
     "traceback": [
      "\u001b[0;31m---------------------------------------------------------------------------\u001b[0m",
      "\u001b[0;31mNameError\u001b[0m                                 Traceback (most recent call last)",
      "\u001b[0;32m<ipython-input-1-a8b52f26d047>\u001b[0m in \u001b[0;36m<module>\u001b[0;34m()\u001b[0m\n\u001b[1;32m     17\u001b[0m     \u001b[0;34m[\u001b[0m\u001b[0mXi\u001b[0m\u001b[0;34m.\u001b[0m\u001b[0mgetFitness\u001b[0m\u001b[0;34m(\u001b[0m\u001b[0;34m)\u001b[0m \u001b[0;32mfor\u001b[0m \u001b[0mXi\u001b[0m \u001b[0;32min\u001b[0m \u001b[0mX\u001b[0m\u001b[0;34m]\u001b[0m\u001b[0;34m\u001b[0m\u001b[0m\n\u001b[1;32m     18\u001b[0m   \u001b[0;32mreturn\u001b[0m \u001b[0mX\u001b[0m\u001b[0;34m\u001b[0m\u001b[0m\n\u001b[0;32m---> 19\u001b[0;31m \u001b[0mge\u001b[0m\u001b[0;34m(\u001b[0m\u001b[0;36m50\u001b[0m\u001b[0;34m,\u001b[0m \u001b[0mmy_func\u001b[0m\u001b[0;34m,\u001b[0m \u001b[0mbounds\u001b[0m\u001b[0;34m,\u001b[0m \u001b[0mdimension\u001b[0m\u001b[0;34m,\u001b[0m \u001b[0mmax_nfe\u001b[0m\u001b[0;34m)\u001b[0m\u001b[0;34m\u001b[0m\u001b[0m\n\u001b[0m\u001b[1;32m     20\u001b[0m \u001b[0mXXX_output_XXX\u001b[0m \u001b[0;34m=\u001b[0m \u001b[0mSolution\u001b[0m\u001b[0;34m.\u001b[0m\u001b[0mbest\u001b[0m\u001b[0;34m.\u001b[0m\u001b[0mgetFitness\u001b[0m\u001b[0;34m(\u001b[0m\u001b[0;34m)\u001b[0m\u001b[0;34m\u001b[0m\u001b[0m\n",
      "\u001b[0;31mNameError\u001b[0m: name 'my_func' is not defined"
     ]
    }
   ],
   "source": [
    "import numpy as np\n",
    "from src import *\n",
    "import testFunctions as tf\n",
    "from animation import animation\n",
    "\n",
    "\n",
    "\n"
   ]
  },
  {
   "cell_type": "code",
   "execution_count": 3,
   "metadata": {},
   "outputs": [],
   "source": [
    "import cocoex\n",
    "from algorithm.parameters import params"
   ]
  },
  {
   "cell_type": "code",
   "execution_count": 5,
   "metadata": {},
   "outputs": [
    {
     "ename": "KeyError",
     "evalue": "'FUNCTION'",
     "output_type": "error",
     "traceback": [
      "\u001b[0;31m---------------------------------------------------------------------------\u001b[0m",
      "\u001b[0;31mKeyError\u001b[0m                                  Traceback (most recent call last)",
      "\u001b[0;32m<ipython-input-5-0120a1f307ee>\u001b[0m in \u001b[0;36m<module>\u001b[0;34m()\u001b[0m\n\u001b[1;32m      1\u001b[0m suite   = cocoex.Suite(\"bbob\", \"\", \"function_indices:\"+ str(params['FUNCTION'])+ \" dimensions:\"+ str(params['DIMENSIONS']) + \n\u001b[0;32m----> 2\u001b[0;31m             \" instance_indices:\" + str(params['INSTANCE_INDICES']))\n\u001b[0m",
      "\u001b[0;31mKeyError\u001b[0m: 'FUNCTION'"
     ]
    }
   ],
   "source": [
    "suite   = cocoex.Suite(\"bbob\", \"\", \"function_indices:\"+ str(params['FUNCTION'])+ \" dimensions:\"+ str(params['DIMENSIONS']) + \n",
    "            \" instance_indices:\" + str(params['INSTANCE_INDICES']))"
   ]
  },
  {
   "cell_type": "code",
   "execution_count": 9,
   "metadata": {},
   "outputs": [
    {
     "ename": "SyntaxError",
     "evalue": "invalid syntax (<ipython-input-9-e8449033f70a>, line 19)",
     "output_type": "error",
     "traceback": [
      "\u001b[0;36m  File \u001b[0;32m\"<ipython-input-9-e8449033f70a>\"\u001b[0;36m, line \u001b[0;32m19\u001b[0m\n\u001b[0;31m    X = Solution.best.getFitness()\u001b[0m\n\u001b[0m    ^\u001b[0m\n\u001b[0;31mSyntaxError\u001b[0m\u001b[0;31m:\u001b[0m invalid syntax\n"
     ]
    }
   ],
   "source": [
    "\n",
    "def ge(n, my_func, bounds, dimension, max_nfe):\n",
    "    Solution.setProblem(my_func, bounds, dimension, maximize=False)\n",
    "    X = Solution.initialize(n)\n",
    "    for Xi in X:    Xi.setX(op.init_random(*Solution.bounds, Solution.dimension))\n",
    "    [Xi.getFitness() for Xi in X]\n",
    "    Solution.updateHistory(X)\n",
    "    while Solution.nfe < max_nfe:\n",
    "        U = X\n",
    "        #Round 1\n",
    "        S1 = op.select_tournament(U, n=1, k=int(n*0.50))\n",
    "        U  = op.w_mut_uni(S1, pr=0.75)\n",
    "        X  = op.replace_if_best(X, U)\n",
    "        [Xi.getFitness() for Xi in X]\n",
    "    return X\n",
    "\n",
    "for problem in suite:\n",
    "    ge(50, problem, (problem.lower_bounds, probem.upper_bounds), problem.dimension, 1000)\n",
    "    XXX_output_XXX = Solution.best.getFitness()\n",
    "    print(XXX_output_XXX)"
   ]
  },
  {
   "cell_type": "code",
   "execution_count": null,
   "metadata": {},
   "outputs": [],
   "source": []
  }
 ],
 "metadata": {
  "kernelspec": {
   "display_name": "Python 3",
   "language": "python",
   "name": "python3"
  },
  "language_info": {
   "codemirror_mode": {
    "name": "ipython",
    "version": 3
   },
   "file_extension": ".py",
   "mimetype": "text/x-python",
   "name": "python",
   "nbconvert_exporter": "python",
   "pygments_lexer": "ipython3",
   "version": "3.7.0"
  }
 },
 "nbformat": 4,
 "nbformat_minor": 2
}
