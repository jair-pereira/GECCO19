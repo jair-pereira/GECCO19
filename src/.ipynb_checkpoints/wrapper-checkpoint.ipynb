{
 "cells": [
  {
   "cell_type": "code",
   "execution_count": 1,
   "metadata": {},
   "outputs": [],
   "source": [
    "from src.solution import *\n",
    "import src.operators as op\n",
    "import testFunctions as tf\n",
    "import numpy as np"
   ]
  },
  {
   "cell_type": "code",
   "execution_count": 2,
   "metadata": {},
   "outputs": [
    {
     "data": {
      "text/plain": [
       "[None, None, None, None]"
      ]
     },
     "execution_count": 2,
     "metadata": {},
     "output_type": "execute_result"
    }
   ],
   "source": [
    "Solution.setProblem(tf.ackley_function, (-1,+1), 5, maximize=False)\n",
    "X = Solution.initialize(4)\n",
    "for Xi in X:    Xi.setX(op.init_random(*Solution.bounds, Solution.dimension))\n",
    "[Xi.getFitness() for Xi in X], \"nfe: \"+str(Solution.nfe), Solution.best.fitness\n",
    "[Xi.updatePBest() for Xi in X]"
   ]
  },
  {
   "cell_type": "code",
   "execution_count": 19,
   "metadata": {},
   "outputs": [
    {
     "name": "stdout",
     "output_type": "stream",
     "text": [
      "<src.solution.Solution object at 0x0000018A791345F8> \n",
      " -4.3310570886302 [-0.88101716 -0.58871223  0.85065996 -0.28488713  0.68690265]\n",
      "<src.solution.Solution object at 0x0000018A79134668> \n",
      " -4.24478152292658 [ 0.90033156 -0.53566553 -0.24053056  0.86545705  0.71301591]\n",
      "<src.solution.Solution object at 0x0000018A791346A0> \n",
      " -3.9602145103755118 [-9.97483682e-01  5.94025148e-01 -3.67165654e-01  8.59057261e-01\n",
      " -5.10372857e-04]\n",
      "<src.solution.Solution object at 0x0000018A791346D8> \n",
      " -3.3942012851729726 [-0.88593817 -0.30935533  0.13250648  0.16809389 -0.78678498]\n"
     ]
    }
   ],
   "source": [
    "for Xi,f in zip(X, [Xi.getFitness() for Xi in X]):\n",
    "    print(Xi, \"\\n\", f, Xi.x)"
   ]
  },
  {
   "cell_type": "code",
   "execution_count": 7,
   "metadata": {},
   "outputs": [],
   "source": [
    "# main\n",
    "def crx_blend(x1, x2):\n",
    "    #based on deap's implementation (https://github.com/DEAP/deap/blob/master/deap/tools/crossover.py)\n",
    "    gamma = (1 + 2*param['alpha']) * np.random.uniform(0, 1) - param['alpha']\n",
    "    u = (1 - gamma)*x1 + gamma*x2\n",
    "    v = gamma*x1 + (1 - gamma)*x2\n",
    "    \n",
    "    return u, v\n",
    "\n",
    "param = {\"w\":1,\"c1\":1,\"c2\":1,\"alpha\":.7,\"beta\":.5,\"pr\":.6}"
   ]
  },
  {
   "cell_type": "code",
   "execution_count": 5,
   "metadata": {},
   "outputs": [
    {
     "ename": "NameError",
     "evalue": "name 'crx_blend' is not defined",
     "output_type": "error",
     "traceback": [
      "\u001b[1;31m---------------------------------------------------------------------------\u001b[0m",
      "\u001b[1;31mNameError\u001b[0m                                 Traceback (most recent call last)",
      "\u001b[1;32m<ipython-input-5-2bda2bd96c0b>\u001b[0m in \u001b[0;36m<module>\u001b[1;34m()\u001b[0m\n\u001b[0;32m     10\u001b[0m     \u001b[1;32mreturn\u001b[0m \u001b[0mnp\u001b[0m\u001b[1;33m.\u001b[0m\u001b[0marray\u001b[0m\u001b[1;33m(\u001b[0m\u001b[0mU\u001b[0m\u001b[1;33m)\u001b[0m\u001b[1;33m\u001b[0m\u001b[0m\n\u001b[0;32m     11\u001b[0m \u001b[1;33m\u001b[0m\u001b[0m\n\u001b[1;32m---> 12\u001b[1;33m \u001b[0mX1\u001b[0m  \u001b[1;33m=\u001b[0m \u001b[0mop_blend\u001b[0m\u001b[1;33m(\u001b[0m\u001b[0mX\u001b[0m\u001b[1;33m,\u001b[0m \u001b[0mop\u001b[0m\u001b[1;33m.\u001b[0m\u001b[0mselect_random\u001b[0m\u001b[1;33m,\u001b[0m \u001b[0mcrx_blend\u001b[0m\u001b[1;33m,\u001b[0m \u001b[1;32mNone\u001b[0m\u001b[1;33m)\u001b[0m\u001b[1;33m\u001b[0m\u001b[0m\n\u001b[0m\u001b[0;32m     13\u001b[0m \u001b[1;32mfor\u001b[0m \u001b[0mXi\u001b[0m\u001b[1;33m,\u001b[0m\u001b[0mf\u001b[0m \u001b[1;32min\u001b[0m \u001b[0mzip\u001b[0m\u001b[1;33m(\u001b[0m\u001b[0mX\u001b[0m\u001b[1;33m,\u001b[0m \u001b[1;33m[\u001b[0m\u001b[0mXi\u001b[0m\u001b[1;33m.\u001b[0m\u001b[0mgetFitness\u001b[0m\u001b[1;33m(\u001b[0m\u001b[1;33m)\u001b[0m \u001b[1;32mfor\u001b[0m \u001b[0mXi\u001b[0m \u001b[1;32min\u001b[0m \u001b[0mX\u001b[0m\u001b[1;33m]\u001b[0m\u001b[1;33m)\u001b[0m\u001b[1;33m:\u001b[0m\u001b[1;33m\u001b[0m\u001b[0m\n\u001b[0;32m     14\u001b[0m     \u001b[0mprint\u001b[0m\u001b[1;33m(\u001b[0m\u001b[0mXi\u001b[0m\u001b[1;33m,\u001b[0m \u001b[1;34m\"\\n\"\u001b[0m\u001b[1;33m,\u001b[0m \u001b[0mf\u001b[0m\u001b[1;33m,\u001b[0m \u001b[0mXi\u001b[0m\u001b[1;33m.\u001b[0m\u001b[0mx\u001b[0m\u001b[1;33m)\u001b[0m\u001b[1;33m\u001b[0m\u001b[0m\n",
      "\u001b[1;31mNameError\u001b[0m: name 'crx_blend' is not defined"
     ]
    }
   ],
   "source": [
    "# LEGACY\n",
    "def op_blend(X, sel, mut, cross):\n",
    "    sel = op.selection_for_op_de(X, sel)\n",
    "    U = Solution.initialize(X.shape[0])\n",
    "    u = np.array([mut(X[k].x, X[l].x) for k,l,m,n in sel])\n",
    "    \n",
    "    for i in range(len(U)): \n",
    "        U[i].setX(u[i]) \n",
    "    \n",
    "    return np.array(U)\n",
    "\n",
    "X1  = op_blend(X, op.select_random, crx_blend, None)\n",
    "for Xi,f in zip(X, [Xi.getFitness() for Xi in X]):\n",
    "    print(Xi, \"\\n\", f, Xi.x)"
   ]
  },
  {
   "cell_type": "code",
   "execution_count": 4,
   "metadata": {},
   "outputs": [
    {
     "name": "stdout",
     "output_type": "stream",
     "text": [
      "<src.solution.Solution object at 0x000001B8C46371D0> -4.396290405218068\n",
      "<src.solution.Solution object at 0x000001B8C46371D0> -4.396290405218068\n",
      "\n",
      "<src.solution.Solution object at 0x000001B8C4637240> -2.7665355198775505\n",
      "<src.solution.Solution object at 0x000001B8C4637240> -2.7665355198775505\n",
      "\n",
      "<src.solution.Solution object at 0x000001B8C4637278> -3.9838509949359993\n",
      "<src.solution.Solution object at 0x000001B8C4637278> -3.9838509949359993\n",
      "\n",
      "<src.solution.Solution object at 0x000001B8C46372B0> -3.371030754326679\n",
      "<src.solution.Solution object at 0x000001B8C46372B0> -3.371030754326679\n",
      "\n"
     ]
    }
   ],
   "source": [
    "s1 = op.select_current(X)\n",
    "s2 = op.select_current(X)\n",
    "# s2 = op.select_random(X, 1)\n",
    "S = np.append(s1, s2, axis=1)\n",
    "\n",
    "for S1, S2 in S:\n",
    "    print(S1, S1.getFitness())\n",
    "    print(S2, S2.getFitness())\n",
    "    print()"
   ]
  },
  {
   "cell_type": "code",
   "execution_count": 32,
   "metadata": {},
   "outputs": [
    {
     "name": "stdout",
     "output_type": "stream",
     "text": [
      "<src.solution.Solution object at 0x000001B8C4718898> \n",
      " -4.396290405218068 [-0.66900613 -0.33051085 -0.51024897  0.68160566 -0.83692144]\n",
      "<src.solution.Solution object at 0x000001B8C47188D0> \n",
      " -2.7665355198775505 [ 0.00965113  0.60862428 -0.0289258   0.02459843  0.4636266 ]\n",
      "<src.solution.Solution object at 0x000001B8C4718908> \n",
      " -3.9838509949359993 [-0.35557435  0.43638794 -0.49222158  0.27508204 -0.71016512]\n",
      "<src.solution.Solution object at 0x000001B8C4718978> \n",
      " -3.371030754326679 [-0.79230038 -0.10015182 -0.22430113 -0.25328013  0.48067324]\n",
      "<src.solution.Solution object at 0x000001B8C47189B0> \n",
      " -3.9838509949359993 [-0.35557435  0.43638794 -0.49222158  0.27508204 -0.71016512]\n",
      "<src.solution.Solution object at 0x000001B8C47189E8> \n",
      " -4.440892098500626e-16 [0. 0. 0. 0. 0.]\n",
      "<src.solution.Solution object at 0x000001B8C4718A20> \n",
      " -3.371030754326679 [-0.79230038 -0.10015182 -0.22430113 -0.25328013  0.48067324]\n",
      "<src.solution.Solution object at 0x000001B8C4718A58> \n",
      " -4.440892098500626e-16 [0. 0. 0. 0. 0.]\n"
     ]
    }
   ],
   "source": [
    "# wrapper tmp\n",
    "def w_crx_blend(S, alpha, inheritance):\n",
    "    U = Solution.initialize(2*len(S))\n",
    "    u = np.array([crx_blend(X1.x, X2.x) for X1, X2 in S])\n",
    "    \n",
    "    for i, Ui in enumerate(U[0::2]):\n",
    "        Ui.setX(u[i,0])\n",
    "        Ui.copyStatusPSO(S[i,0])\n",
    "        \n",
    "    for i, Ui in enumerate(U[0::2]):\n",
    "        U[i].setX(u[i,1])\n",
    "        U[i].copyStatusPSO(S[i,1])\n",
    "    \n",
    "    return np.array(U)\n",
    "\n",
    "R = op_blend(S ,0.5)\n",
    "for Xi,f in zip(R, [Xi.getFitness() for Xi in R]):\n",
    "    print(Xi, \"\\n\", f, Xi.x)"
   ]
  },
  {
   "cell_type": "code",
   "execution_count": 26,
   "metadata": {},
   "outputs": [
    {
     "data": {
      "text/plain": [
       "array([<src.solution.Solution object at 0x000001B8C4709668>,\n",
       "       <src.solution.Solution object at 0x000001B8C47096D8>,\n",
       "       <src.solution.Solution object at 0x000001B8C4709748>,\n",
       "       <src.solution.Solution object at 0x000001B8C47097B8>], dtype=object)"
      ]
     },
     "execution_count": 26,
     "metadata": {},
     "output_type": "execute_result"
    }
   ],
   "source": [
    "# wrapper \n",
    "def w_crx_blend(S, alpha, inheritance):\n",
    "    \n",
    "    "
   ]
  },
  {
   "cell_type": "code",
   "execution_count": 27,
   "metadata": {},
   "outputs": [
    {
     "data": {
      "text/plain": [
       "array([<src.solution.Solution object at 0x000001B8C47095F8>,\n",
       "       <src.solution.Solution object at 0x000001B8C47096A0>,\n",
       "       <src.solution.Solution object at 0x000001B8C4709710>,\n",
       "       <src.solution.Solution object at 0x000001B8C4709780>], dtype=object)"
      ]
     },
     "execution_count": 27,
     "metadata": {},
     "output_type": "execute_result"
    }
   ],
   "source": []
  },
  {
   "cell_type": "code",
   "execution_count": 64,
   "metadata": {},
   "outputs": [
    {
     "data": {
      "text/plain": [
       "array([[ 0.01727629,  0.88815182, -0.39414839,  0.04192972,  0.2730436 ],\n",
       "       [ 0.01727629,  0.88815182, -0.39414839,  0.04192972,  0.2730436 ]])"
      ]
     },
     "execution_count": 64,
     "metadata": {},
     "output_type": "execute_result"
    }
   ],
   "source": []
  },
  {
   "cell_type": "code",
   "execution_count": 44,
   "metadata": {},
   "outputs": [
    {
     "data": {
      "text/plain": [
       "[range(0, 8, 2), range(1, 8, 2)]"
      ]
     },
     "execution_count": 44,
     "metadata": {},
     "output_type": "execute_result"
    }
   ],
   "source": [
    "len(S)\n",
    "S\n",
    "[range(0, 2*len(S), 2)]+[range(1, 2*len(S), 2)]"
   ]
  },
  {
   "cell_type": "code",
   "execution_count": 41,
   "metadata": {},
   "outputs": [
    {
     "ename": "SyntaxError",
     "evalue": "can't use starred expression here (<ipython-input-41-e2e634266417>, line 1)",
     "output_type": "error",
     "traceback": [
      "\u001b[1;36m  File \u001b[1;32m\"<ipython-input-41-e2e634266417>\"\u001b[1;36m, line \u001b[1;32m1\u001b[0m\n\u001b[1;33m    for X1.x, X2.x, (*X3).x in S:\u001b[0m\n\u001b[1;37m                    ^\u001b[0m\n\u001b[1;31mSyntaxError\u001b[0m\u001b[1;31m:\u001b[0m can't use starred expression here\n"
     ]
    }
   ],
   "source": [
    "for X1.x, X2.x, (*X3).x in S:\n",
    "    print(X1)\n",
    "    print(X2)\n",
    "    print(X3)"
   ]
  },
  {
   "cell_type": "code",
   "execution_count": 34,
   "metadata": {},
   "outputs": [
    {
     "data": {
      "text/plain": [
       "array([<src.solution.Solution object at 0x0000018A791345F8>,\n",
       "       <src.solution.Solution object at 0x0000018A79134668>,\n",
       "       <src.solution.Solution object at 0x0000018A791346A0>,\n",
       "       <src.solution.Solution object at 0x0000018A791346D8>], dtype=object)"
      ]
     },
     "execution_count": 34,
     "metadata": {},
     "output_type": "execute_result"
    }
   ],
   "source": [
    "s1 = op.select_current(X)\n",
    "# s2 = op.select_current(X)\n",
    "s3 = op.select_random(X, 1)\n",
    "# S = np.append(s1, s3, axis=1)\n",
    "S = s1\n",
    "s1"
   ]
  },
  {
   "cell_type": "code",
   "execution_count": 38,
   "metadata": {},
   "outputs": [],
   "source": [
    "def pso_velocity(x, v, gbest, pbest):\n",
    "    r1 = np.random.random(len(x))\n",
    "    r2 = np.random.random(len(x))\n",
    "    \n",
    "    v = param['w']*v + param['c1']*r1*(pbest - x) + param['c2']*r2*(gbest - x)    \n",
    "    \n",
    "    return v\n",
    "    \n",
    "def pso_move(x, v):\n",
    "    u = x + v\n",
    "    \n",
    "    return u\n",
    "\n",
    "param = {\"w\":1,\"c1\":1,\"c2\":1,\"alpha\":.7,\"beta\":.5,\"pr\":.6}"
   ]
  },
  {
   "cell_type": "code",
   "execution_count": 41,
   "metadata": {},
   "outputs": [
    {
     "data": {
      "text/plain": [
       "array([[ 0.        ,  0.        ,  0.        ,  0.        ,  0.        ],\n",
       "       [-0.89070588, -0.04039657,  0.76262274, -1.1278531 , -0.02554072],\n",
       "       [ 0.06321485, -0.79023148,  0.31214221, -1.03230229,  0.47218893],\n",
       "       [ 0.00235632, -0.16557477,  0.56924407, -0.30343182,  0.22981455]])"
      ]
     },
     "execution_count": 41,
     "metadata": {},
     "output_type": "execute_result"
    }
   ],
   "source": [
    "U = Solution.initialize(len(S))\n",
    "v = np.array([pso_velocity(Xi.x, Xi.velocity, type(Xi).best.x, Xi.pbest['x']) for Xi in S[:,0]])\n",
    "u = np.array([pso_move(X[i].x, v[i]) for i in range(len(S))])\n",
    "    \n",
    "v"
   ]
  }
 ],
 "metadata": {
  "kernelspec": {
   "display_name": "Python 3",
   "language": "python",
   "name": "python3"
  },
  "language_info": {
   "codemirror_mode": {
    "name": "ipython",
    "version": 3
   },
   "file_extension": ".py",
   "mimetype": "text/x-python",
   "name": "python",
   "nbconvert_exporter": "python",
   "pygments_lexer": "ipython3",
   "version": "3.6.5"
  }
 },
 "nbformat": 4,
 "nbformat_minor": 2
}
