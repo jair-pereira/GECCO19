{
 "cells": [
  {
   "cell_type": "code",
   "execution_count": 16,
   "metadata": {},
   "outputs": [],
   "source": [
    "import pickle\n",
    "from matplotlib import pyplot as plt\n",
    "import numpy as np\n",
    "%matplotlib inline"
   ]
  },
  {
   "cell_type": "code",
   "execution_count": 10,
   "metadata": {},
   "outputs": [
    {
     "data": {
      "text/plain": [
       "(array([ 90.,  42.,  66., 150., 720., 798., 102.,  54.,  30., 108.]),\n",
       " array([-1.00000000e+03, -8.00000000e+02, -6.00000000e+02, -4.00000000e+02,\n",
       "        -2.00000000e+02,  1.00000079e-08,  2.00000000e+02,  4.00000000e+02,\n",
       "         6.00000000e+02,  8.00000000e+02,  1.00000000e+03]),\n",
       " <a list of 10 Patch objects>)"
      ]
     },
     "execution_count": 10,
     "metadata": {},
     "output_type": "execute_result"
    },
    {
     "data": {
      "image/png": "[encoded data removed]",
      "text/plain": [
       "<Figure size 432x288 with 1 Axes>"
      ]
     },
     "metadata": {},
     "output_type": "display_data"
    }
   ],
   "source": [
    "file = open(\"bbob_final_target_fvalue1.pkl\",'rb')\n",
    "d = pickle.load(file)\n",
    "file.close()\n",
    "\n",
    "plt.hist(d.values())"
   ]
  },
  {
   "cell_type": "code",
   "execution_count": 35,
   "metadata": {},
   "outputs": [],
   "source": [
    "import cocoex, cocopp\n",
    "suite = cocoex.Suite(\"bbob\", \"\", \"\")\n",
    "\n",
    "r = []\n",
    "for problem in suite:\n",
    "    for runs in range(100):\n",
    "        x = np.random.uniform(problem.lower_bounds, problem.upper_bounds, problem.dimension)\n",
    "        r.append(problem(x))"
   ]
  },
  {
   "cell_type": "code",
   "execution_count": 36,
   "metadata": {},
   "outputs": [
    {
     "data": {
      "text/plain": [
       "(216000, 16196478861481.385, -999.958479794209)"
      ]
     },
     "execution_count": 36,
     "metadata": {},
     "output_type": "execute_result"
    }
   ],
   "source": [
    "len(r), np.max(r), np.min(r)"
   ]
  }
 ],
 "metadata": {
  "kernelspec": {
   "display_name": "Python 3",
   "language": "python",
   "name": "python3"
  },
  "language_info": {
   "codemirror_mode": {
    "name": "ipython",
    "version": 3
   },
   "file_extension": ".py",
   "mimetype": "text/x-python",
   "name": "python",
   "nbconvert_exporter": "python",
   "pygments_lexer": "ipython3",
   "version": "3.6.5"
  }
 },
 "nbformat": 4,
 "nbformat_minor": 2
}
