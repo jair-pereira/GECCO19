{
 "cells": [
  {
   "cell_type": "code",
   "execution_count": 2,
   "metadata": {},
   "outputs": [],
   "source": [
    "# from solution import *\n",
    "# from operators import *\n",
    "from src import *\n",
    "import testFunctions as tf\n",
    "import numpy as np"
   ]
  },
  {
   "cell_type": "code",
   "execution_count": 5,
   "metadata": {},
   "outputs": [
    {
     "ename": "TypeError",
     "evalue": "repair() takes 1 positional argument but 3 were given",
     "output_type": "error",
     "traceback": [
      "\u001b[1;31m---------------------------------------------------------------------------\u001b[0m",
      "\u001b[1;31mTypeError\u001b[0m                                 Traceback (most recent call last)",
      "\u001b[1;32m<ipython-input-5-77609f4c454e>\u001b[0m in \u001b[0;36m<module>\u001b[1;34m()\u001b[0m\n\u001b[0;32m      1\u001b[0m \u001b[0mSolution\u001b[0m\u001b[1;33m.\u001b[0m\u001b[0msetProblem\u001b[0m\u001b[1;33m(\u001b[0m\u001b[0mtf\u001b[0m\u001b[1;33m.\u001b[0m\u001b[0mackley_function\u001b[0m\u001b[1;33m,\u001b[0m \u001b[1;33m(\u001b[0m\u001b[1;33m-\u001b[0m\u001b[1;36m1\u001b[0m\u001b[1;33m,\u001b[0m\u001b[1;33m+\u001b[0m\u001b[1;36m1\u001b[0m\u001b[1;33m)\u001b[0m\u001b[1;33m,\u001b[0m \u001b[1;36m5\u001b[0m\u001b[1;33m,\u001b[0m \u001b[0mmaximize\u001b[0m\u001b[1;33m=\u001b[0m\u001b[1;32mFalse\u001b[0m\u001b[1;33m)\u001b[0m\u001b[1;33m\u001b[0m\u001b[0m\n\u001b[0;32m      2\u001b[0m \u001b[0mX\u001b[0m \u001b[1;33m=\u001b[0m \u001b[0mSolution\u001b[0m\u001b[1;33m.\u001b[0m\u001b[0minitialize\u001b[0m\u001b[1;33m(\u001b[0m\u001b[1;36m4\u001b[0m\u001b[1;33m)\u001b[0m\u001b[1;33m\u001b[0m\u001b[0m\n\u001b[1;32m----> 3\u001b[1;33m \u001b[1;32mfor\u001b[0m \u001b[0mXi\u001b[0m \u001b[1;32min\u001b[0m \u001b[0mX\u001b[0m\u001b[1;33m:\u001b[0m    \u001b[0mXi\u001b[0m\u001b[1;33m.\u001b[0m\u001b[0msetX\u001b[0m\u001b[1;33m(\u001b[0m\u001b[0mop\u001b[0m\u001b[1;33m.\u001b[0m\u001b[0minit_random\u001b[0m\u001b[1;33m(\u001b[0m\u001b[1;33m*\u001b[0m\u001b[0mSolution\u001b[0m\u001b[1;33m.\u001b[0m\u001b[0mbounds\u001b[0m\u001b[1;33m,\u001b[0m \u001b[0mSolution\u001b[0m\u001b[1;33m.\u001b[0m\u001b[0mdimension\u001b[0m\u001b[1;33m)\u001b[0m\u001b[1;33m)\u001b[0m\u001b[1;33m\u001b[0m\u001b[0m\n\u001b[0m\u001b[0;32m      4\u001b[0m \u001b[1;33m[\u001b[0m\u001b[0mXi\u001b[0m\u001b[1;33m.\u001b[0m\u001b[0mgetFitness\u001b[0m\u001b[1;33m(\u001b[0m\u001b[1;33m)\u001b[0m \u001b[1;32mfor\u001b[0m \u001b[0mXi\u001b[0m \u001b[1;32min\u001b[0m \u001b[0mX\u001b[0m\u001b[1;33m]\u001b[0m\u001b[1;33m,\u001b[0m \u001b[1;34m\"nfe: \"\u001b[0m\u001b[1;33m+\u001b[0m\u001b[0mstr\u001b[0m\u001b[1;33m(\u001b[0m\u001b[0mSolution\u001b[0m\u001b[1;33m.\u001b[0m\u001b[0mnfe\u001b[0m\u001b[1;33m)\u001b[0m\u001b[1;33m,\u001b[0m \u001b[0mSolution\u001b[0m\u001b[1;33m.\u001b[0m\u001b[0mbest\u001b[0m\u001b[1;33m.\u001b[0m\u001b[0mfitness\u001b[0m\u001b[1;33m\u001b[0m\u001b[0m\n\u001b[0;32m      5\u001b[0m \u001b[1;33m[\u001b[0m\u001b[0mXi\u001b[0m\u001b[1;33m.\u001b[0m\u001b[0mupdatePBest\u001b[0m\u001b[1;33m(\u001b[0m\u001b[1;33m)\u001b[0m \u001b[1;32mfor\u001b[0m \u001b[0mXi\u001b[0m \u001b[1;32min\u001b[0m \u001b[0mX\u001b[0m\u001b[1;33m]\u001b[0m\u001b[1;33m\u001b[0m\u001b[0m\n",
      "\u001b[1;32m~\\Documents\\GitHub\\GECCO19\\src\\src\\solution.py\u001b[0m in \u001b[0;36msetX\u001b[1;34m(self, x)\u001b[0m\n\u001b[0;32m     43\u001b[0m         \u001b[1;31m# self.x = x\u001b[0m\u001b[1;33m\u001b[0m\u001b[1;33m\u001b[0m\u001b[0m\n\u001b[0;32m     44\u001b[0m         \u001b[1;31m# self.x = np.clip(x, *self.bounds)\u001b[0m\u001b[1;33m\u001b[0m\u001b[1;33m\u001b[0m\u001b[0m\n\u001b[1;32m---> 45\u001b[1;33m         \u001b[0mself\u001b[0m\u001b[1;33m.\u001b[0m\u001b[0mx\u001b[0m \u001b[1;33m=\u001b[0m \u001b[0mSolution\u001b[0m\u001b[1;33m.\u001b[0m\u001b[0mrepair\u001b[0m\u001b[1;33m(\u001b[0m\u001b[0mx\u001b[0m\u001b[1;33m,\u001b[0m \u001b[1;33m*\u001b[0m\u001b[0mself\u001b[0m\u001b[1;33m.\u001b[0m\u001b[0mbounds\u001b[0m\u001b[1;33m)\u001b[0m\u001b[1;33m\u001b[0m\u001b[0m\n\u001b[0m\u001b[0;32m     46\u001b[0m         \u001b[0mself\u001b[0m\u001b[1;33m.\u001b[0m\u001b[0mclearFitness\u001b[0m\u001b[1;33m(\u001b[0m\u001b[1;33m)\u001b[0m\u001b[1;33m\u001b[0m\u001b[0m\n\u001b[0;32m     47\u001b[0m \u001b[1;33m\u001b[0m\u001b[0m\n",
      "\u001b[1;31mTypeError\u001b[0m: repair() takes 1 positional argument but 3 were given"
     ]
    }
   ],
   "source": [
    "Solution.setProblem(tf.ackley_function, (-1,+1), 5, maximize=False)\n",
    "X = Solution.initialize(4)\n",
    "for Xi in X:    Xi.setX(op.init_random(*Solution.bounds, Solution.dimension))\n",
    "[Xi.getFitness() for Xi in X], \"nfe: \"+str(Solution.nfe), Solution.best.fitness\n",
    "[Xi.updatePBest() for Xi in X]\n",
    "\n",
    "op.param = {\"w\":1,\"c1\":1,\"c2\":1,\"alpha\":.7,\"beta\":.5,\"pr\":.6}"
   ]
  },
  {
   "cell_type": "code",
   "execution_count": 20,
   "metadata": {},
   "outputs": [
    {
     "ename": "KeyError",
     "evalue": "'2'",
     "output_type": "error",
     "traceback": [
      "\u001b[1;31m---------------------------------------------------------------------------\u001b[0m",
      "\u001b[1;31mKeyError\u001b[0m                                  Traceback (most recent call last)",
      "\u001b[1;32m<ipython-input-20-3b0f29fc42a9>\u001b[0m in \u001b[0;36m<module>\u001b[1;34m()\u001b[0m\n\u001b[0;32m      1\u001b[0m \u001b[0masa\u001b[0m \u001b[1;33m=\u001b[0m \u001b[1;33m{\u001b[0m\u001b[1;33m}\u001b[0m\u001b[1;33m\u001b[0m\u001b[0m\n\u001b[0;32m      2\u001b[0m \u001b[0masa\u001b[0m\u001b[1;33m[\u001b[0m\u001b[1;34m'1'\u001b[0m\u001b[1;33m]\u001b[0m \u001b[1;33m=\u001b[0m \u001b[1;36m1\u001b[0m\u001b[1;33m\u001b[0m\u001b[0m\n\u001b[1;32m----> 3\u001b[1;33m \u001b[0masa\u001b[0m\u001b[1;33m[\u001b[0m\u001b[1;34m'2'\u001b[0m\u001b[1;33m]\u001b[0m\u001b[1;33m\u001b[0m\u001b[0m\n\u001b[0m",
      "\u001b[1;31mKeyError\u001b[0m: '2'"
     ]
    }
   ],
   "source": [
    "asa = {}\n",
    "asa['1'] = 1\n",
    "asa['2']"
   ]
  },
  {
   "cell_type": "code",
   "execution_count": null,
   "metadata": {},
   "outputs": [],
   "source": [
    "def select_tournament(X, n, k): \n",
    "    \"\"\" Selects n exclusively candidate solutions from X through tournament of group size k\n",
    "    :param X: list of candidate solutions\n",
    "    :param n: the number of individuals selected\n",
    "    :param k: group size\n",
    "    :returns: A list of references of the selected candidate solutions. \"\"\"\n",
    "    s = [np.sort(r)[::-1][:n] for r in select_random(X, k)]\n",
    "    return np.array(s)\n",
    "\n",
    "def select_limtournament(X, n, k, l):\n",
    "    \"\"\" Selects n exclusively candidate solutions from X through tournament of group size k, \n",
    "            being l the maximum number of ocurrences that a candidate solution can be selected\n",
    "        Special case: a few candidate solution dont get chosen, resulting in |choice_pool| < n,\n",
    "                      the limit will be ignored in those situations\n",
    "    :param X: list of candidate solutions\n",
    "    :param n: the number of individuals selected\n",
    "    :param k: group size\n",
    "    :returns: A list of references of the selected candidate solutions. \"\"\"\n",
    "    choice_pool = np.repeat(True, len(X))\n",
    "    limit = np.repeat(l, len(X))\n",
    "    s = []\n",
    "    for _ in range(len(X)):\n",
    "        #special case\n",
    "        if(sum(choice_pool) < n):\n",
    "            aux_1 = np.delete(np.arange(len(X)), np.where(choice_pool==True)[0][0])\n",
    "            aux_2 = np.random.choice(aux_1, sum(choice_pool) - n, replace=False)\n",
    "            choice_pool[aux_2] = True\n",
    "        #selection\n",
    "        tmp = np.random.choice(X[choice_pool], n, replace=False)\n",
    "        #limit handling\n",
    "        for t in tmp:\n",
    "            i = np.argwhere(t==X)[0][0]\n",
    "            limit[i] -= 1 \n",
    "            if limit[i] <= 0:\n",
    "                choice_pool[i] = False\n",
    "        s += [tmp]\n",
    "    return np.array(s)\n",
    "\n",
    "def select_roulette(X, n): ##**working on**##\n",
    "    \"\"\" Selects n exclusively candidate solutions from X through roulette\n",
    "    :param X: list of candidate solutions\n",
    "    :param n: the number of individuals selected\n",
    "    :returns: A list of references of the selected candidate solutions. \"\"\"\n",
    "    f_sum = np.sum(Xi.getFitness() for Xi in X)\n",
    "    p = [Xi.getFitness()/f_sum for Xi in X]\n",
    "    result = [np.random.choice(X, size=n, replace=False, p=p) for i in range(len(X))]\n",
    "    return result\n",
    "\n",
    "def select_limroulette(X, n): ##**not implemented**##\n",
    "    \"\"\" Selects n exclusively candidate solutions from X through roulette,\n",
    "            being l the maximum number of ocurrences that a candidate solution can be selected\n",
    "        Special case: a few candidate solution dont get chosen, resulting in |choice_pool| < n,\n",
    "                      the limit will be ignored in those situations\n",
    "    :param X: list of candidate solutions\n",
    "    :param n: the number of individuals selected\n",
    "    :returns: A list of references of the selected candidate solutions. \"\"\"\n",
    "    return \n",
    "\n",
    "def select_exrandom(X, n):\n",
    "    \"\"\" Selects n exclusively and randomly candidate solutions from X, that also has not the same index as X\n",
    "    :param X: list of candidate solutions\n",
    "    :param n: the number of individuals selected\n",
    "    :returns: A list of references of the selected candidate solutions. \"\"\"\n",
    "    idx = np.arange(X.shape[0])\n",
    "    s = [np.random.choice(X[np.delete(idx, i)], n, replace=False) for i in range(len(X))]\n",
    "    return np.array(s)\n",
    "\n",
    "def select_random(X, n):\n",
    "    \"\"\" Selects n exclusively and randomly candidate solutions from X\n",
    "    :param X: list of candidate solutions\n",
    "    :param n: the number of individuals selected\n",
    "    :returns: A list of references of the selected candidate solutions. \"\"\"\n",
    "    s = [np.random.choice(X, n, replace=False) for _ in range(len(X))]\n",
    "    return np.array(s)\n",
    "\n",
    "def select_current(X):\n",
    "    \"\"\" Selects all candidate solutions from X\n",
    "    :param X: list of candidate solutions\n",
    "    :returns: A list of references of the selected candidate solutions. \"\"\"\n",
    "    s = [Xi for Xi in X]\n",
    "    return np.array(s)\n",
    "\n",
    "def scaling(X): ##maybe delete##\n",
    "    \"\"\" Scale fitness of all candidate solutions in X between the values of worst and best candidate solutions found so far\n",
    "    :param X: list of candidate solutions\n",
    "    :returns: A list of fitness. \"\"\"\n",
    "    cls = type(X[0])        \n",
    "    \n",
    "    a = 1\n",
    "    b = (np.abs(cls.worst.fitness) + np.abs(cls.best.fitness))\n",
    "    \n",
    "    result = [(a + (Xi.getFitness() - cls.worst.fitness)*(b-a)) / (cls.best.fitness - cls.worst.fitness) for Xi in X]\n",
    "    return np.array(result)"
   ]
  },
  {
   "cell_type": "code",
   "execution_count": null,
   "metadata": {},
   "outputs": [],
   "source": [
    "Solution.print()"
   ]
  },
  {
   "cell_type": "code",
   "execution_count": null,
   "metadata": {},
   "outputs": [],
   "source": []
  },
  {
   "cell_type": "code",
   "execution_count": null,
   "metadata": {},
   "outputs": [],
   "source": []
  },
  {
   "cell_type": "code",
   "execution_count": null,
   "metadata": {},
   "outputs": [],
   "source": [
    "Solution.worst.fitness = +1\n",
    "Solution.best.fitness  = -1\n",
    "\n",
    "\n",
    "X[0].fitness = 0\n",
    "X[1].fitness = -1\n",
    "X[2].fitness = +1"
   ]
  },
  {
   "cell_type": "code",
   "execution_count": null,
   "metadata": {},
   "outputs": [],
   "source": [
    "np.random.uniform(-1, +1, 5)"
   ]
  },
  {
   "cell_type": "code",
   "execution_count": null,
   "metadata": {},
   "outputs": [],
   "source": [
    "Solution.initialize(tf.ackley_function, (-1,+1), 5, 200, maximize=False)\n",
    "a = Solution()\n",
    "a.initRandom()\n",
    "a.x"
   ]
  },
  {
   "cell_type": "code",
   "execution_count": null,
   "metadata": {},
   "outputs": [],
   "source": []
  },
  {
   "cell_type": "code",
   "execution_count": null,
   "metadata": {},
   "outputs": [],
   "source": [
    "a = select_current(X)\n",
    "b = select_random(X,2)\n",
    "c = select_current(X)\n",
    "\n",
    "d = list(zip(a, b))\n",
    "\n",
    "d"
   ]
  },
  {
   "cell_type": "code",
   "execution_count": 59,
   "metadata": {},
   "outputs": [
    {
     "data": {
      "text/plain": [
       "array([1, 1, 2, 3, 2], dtype=int32)"
      ]
     },
     "execution_count": 59,
     "metadata": {},
     "output_type": "execute_result"
    }
   ],
   "source": [
    "import numpy as np\n",
    "a = np.array([1, 1, 2, -7, 7])\n",
    "\n",
    "# a[a>1] = a[a>1]%3\n",
    "\n",
    "a%5"
   ]
  },
  {
   "cell_type": "code",
   "execution_count": null,
   "metadata": {},
   "outputs": [],
   "source": [
    "# Tournament from population | \n",
    "# Roulette from population | \n",
    "# Random from population | \n",
    "# Current (Current starts with the original individual, and is updated) \n"
   ]
  },
  {
   "cell_type": "code",
   "execution_count": null,
   "metadata": {},
   "outputs": [],
   "source": [
    "def de():\n",
    "    for x in pop:\n",
    "        pool = []\n",
    "        pool += mut(select_random(3))\n",
    "        <>\n",
    "        x_t+1 = select_exclusively(pop)"
   ]
  },
  {
   "cell_type": "code",
   "execution_count": null,
   "metadata": {},
   "outputs": [],
   "source": []
  },
  {
   "cell_type": "code",
   "execution_count": null,
   "metadata": {},
   "outputs": [],
   "source": []
  },
  {
   "cell_type": "code",
   "execution_count": null,
   "metadata": {},
   "outputs": [],
   "source": [
    "# update_velocity = mydecorator(self)(type(self).myclassfunc)\n",
    "# def dec_update_velocity(func):\n",
    "#     vel = [update_velocity(Xi.x, Solution.gbest.x, Xi.pbest['x'], Xi.velocity, Solution.pso['w'], Solution.pso['c1'], Solution.pso['c2']) for Xi in X]\n",
    "#         for i in range(len(X)):\n",
    "#           X[i].velocity = vel[i]"
   ]
  }
 ],
 "metadata": {
  "kernelspec": {
   "display_name": "Python 3",
   "language": "python",
   "name": "python3"
  },
  "language_info": {
   "codemirror_mode": {
    "name": "ipython",
    "version": 3
   },
   "file_extension": ".py",
   "mimetype": "text/x-python",
   "name": "python",
   "nbconvert_exporter": "python",
   "pygments_lexer": "ipython3",
   "version": "3.6.5"
  }
 },
 "nbformat": 4,
 "nbformat_minor": 2
}
