{
 "cells": [
  {
   "cell_type": "code",
   "execution_count": 1,
   "metadata": {},
   "outputs": [],
   "source": [
    "from __future__ import division, print_function\n",
    "import cocoex, cocopp  # experimentation and post-processing modules\n",
    "import scipy.optimize  # to define the solver to be benchmarked\n",
    "from numpy.random import rand  # for randomised restarts\n",
    "import os, webbrowser  # to show post-processed results in the browser\n",
    "import solvers\n"
   ]
  },
  {
   "cell_type": "code",
   "execution_count": 2,
   "metadata": {},
   "outputs": [],
   "source": [
    "suite_name = \"bbob\"\n",
    "output_folder = \"OUT1_40D_1000it\"\n",
    "fmin = scipy.optimize.fmin\n",
    "budget_multiplier = 1  # increase to 10, 100, ...\n",
    "\n",
    "# fmin is re-defined to call our solver\n",
    "def fmin(fun, lbounds, ubounds, dim, budget):\n",
    "    result = solvers.franken10(50, fun, lbounds, ubounds, dim, 1000)\n",
    "    return result"
   ]
  },
  {
   "cell_type": "code",
   "execution_count": 8,
   "metadata": {},
   "outputs": [],
   "source": [
    "suite = cocoex.Suite(suite_name, \"\", \"function_indices:20 dimensions:40 instance_indices:1-3\")"
   ]
  },
  {
   "cell_type": "code",
   "execution_count": 4,
   "metadata": {},
   "outputs": [
    {
     "data": {
      "text/plain": [
       "['__class__',\n",
       " '__delattr__',\n",
       " '__dict__',\n",
       " '__dir__',\n",
       " '__doc__',\n",
       " '__eq__',\n",
       " '__format__',\n",
       " '__ge__',\n",
       " '__getattribute__',\n",
       " '__getitem__',\n",
       " '__gt__',\n",
       " '__hash__',\n",
       " '__init__',\n",
       " '__init_subclass__',\n",
       " '__iter__',\n",
       " '__le__',\n",
       " '__len__',\n",
       " '__lt__',\n",
       " '__module__',\n",
       " '__ne__',\n",
       " '__new__',\n",
       " '__pyx_vtable__',\n",
       " '__reduce__',\n",
       " '__reduce_ex__',\n",
       " '__repr__',\n",
       " '__setattr__',\n",
       " '__setstate__',\n",
       " '__sizeof__',\n",
       " '__str__',\n",
       " '__subclasshook__',\n",
       " '__weakref__',\n",
       " 'current_index',\n",
       " 'current_problem',\n",
       " 'dimensions',\n",
       " 'find_problem_ids',\n",
       " 'free',\n",
       " 'get_problem',\n",
       " 'get_problem_by_function_dimension_instance',\n",
       " 'ids',\n",
       " 'indices',\n",
       " 'info',\n",
       " 'instance',\n",
       " 'name',\n",
       " 'next_problem',\n",
       " 'number_of_objectives',\n",
       " 'options',\n",
       " 'problem_names',\n",
       " 'reset']"
      ]
     },
     "execution_count": 4,
     "metadata": {},
     "output_type": "execute_result"
    }
   ],
   "source": [
    "dir(suite)"
   ]
  },
  {
   "cell_type": "code",
   "execution_count": 9,
   "metadata": {},
   "outputs": [
    {
     "data": {
      "text/plain": [
       "['BBOB suite problem f20 instance 1 in 40D',\n",
       " 'BBOB suite problem f20 instance 2 in 40D',\n",
       " 'BBOB suite problem f20 instance 3 in 40D']"
      ]
     },
     "execution_count": 9,
     "metadata": {},
     "output_type": "execute_result"
    }
   ],
   "source": [
    "suite.problem_names"
   ]
  },
  {
   "cell_type": "code",
   "execution_count": 12,
   "metadata": {},
   "outputs": [],
   "source": [
    "p = suite.next_problem()"
   ]
  },
  {
   "cell_type": "code",
   "execution_count": 13,
   "metadata": {},
   "outputs": [
    {
     "data": {
      "text/plain": [
       "<cocoex.interface.Problem(), id='bbob_f020_i01_d40'>"
      ]
     },
     "execution_count": 13,
     "metadata": {},
     "output_type": "execute_result"
    }
   ],
   "source": [
    "p"
   ]
  },
  {
   "cell_type": "code",
   "execution_count": 14,
   "metadata": {},
   "outputs": [],
   "source": [
    "problem = p\n",
    "x0 = problem.initial_solution\n",
    "# apply restarts while neither the problem is solved nor the budget is exhausted\n",
    "returns = []\n",
    "while (problem.evaluations < problem.dimension * budget_multiplier\n",
    "       and not problem.final_target_hit):\n",
    "    ret = fmin(problem, problem.lower_bounds, problem.upper_bounds, \n",
    "        problem.dimension,  problem.dimension * budget_multiplier) # here we assume that `fmin` evaluates the final/returned solution\n",
    "    returns.append(ret)"
   ]
  },
  {
   "cell_type": "code",
   "execution_count": 15,
   "metadata": {},
   "outputs": [
    {
     "data": {
      "text/plain": [
       "1"
      ]
     },
     "execution_count": 15,
     "metadata": {},
     "output_type": "execute_result"
    }
   ],
   "source": [
    "len(returns)"
   ]
  },
  {
   "cell_type": "code",
   "execution_count": 28,
   "metadata": {},
   "outputs": [
    {
     "data": {
      "text/plain": [
       "99272"
      ]
     },
     "execution_count": 28,
     "metadata": {},
     "output_type": "execute_result"
    }
   ],
   "source": [
    "solution = returns[0][-1]\n",
    "solution.nfe"
   ]
  },
  {
   "cell_type": "code",
   "execution_count": null,
   "metadata": {},
   "outputs": [],
   "source": []
  }
 ],
 "metadata": {
  "kernelspec": {
   "display_name": "Python 3",
   "language": "python",
   "name": "python3"
  },
  "language_info": {
   "codemirror_mode": {
    "name": "ipython",
    "version": 3
   },
   "file_extension": ".py",
   "mimetype": "text/x-python",
   "name": "python",
   "nbconvert_exporter": "python",
   "pygments_lexer": "ipython3",
   "version": "3.7.0"
  }
 },
 "nbformat": 4,
 "nbformat_minor": 2
}
