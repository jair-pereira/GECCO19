{
 "cells": [
  {
   "cell_type": "code",
   "execution_count": 1,
   "metadata": {},
   "outputs": [],
   "source": [
    "from __future__ import division, print_function\n",
    "import cocoex, cocopp  # experimentation and post-processing modules\n",
    "import scipy.optimize  # to define the solver to be benchmarked\n",
    "from numpy.random import rand  # for randomised restarts\n",
    "import os, webbrowser  # to show post-processed results in the browser\n",
    "import solvers\n"
   ]
  },
  {
   "cell_type": "code",
   "execution_count": 10,
   "metadata": {},
   "outputs": [],
   "source": [
    "suite_name = \"bbob\"\n",
    "output_folder = \"OUT1_40D_1000it\"\n",
    "fmin = scipy.optimize.fmin\n",
    "budget_multiplier = 10 # increase to 10, 100, ...\n",
    "\n",
    "# fmin is re-defined to call our solver\n",
    "def fmin(fun, lbounds, ubounds, dim, budget):\n",
    "    result = solvers.de(50, fun, lbounds, ubounds, dim, 50)\n",
    "    return result"
   ]
  },
  {
   "cell_type": "code",
   "execution_count": 33,
   "metadata": {},
   "outputs": [],
   "source": [
    "suite = cocoex.Suite(suite_name, \"\", \"function_indices:21-22 dimensions:2,10 instance_indices:1-15\")"
   ]
  },
  {
   "cell_type": "code",
   "execution_count": 34,
   "metadata": {},
   "outputs": [
    {
     "data": {
      "text/plain": [
       "['BBOB suite problem f21 instance 1 in 2D',\n",
       " 'BBOB suite problem f21 instance 2 in 2D',\n",
       " 'BBOB suite problem f21 instance 3 in 2D',\n",
       " 'BBOB suite problem f21 instance 4 in 2D',\n",
       " 'BBOB suite problem f21 instance 5 in 2D',\n",
       " 'BBOB suite problem f21 instance 71 in 2D',\n",
       " 'BBOB suite problem f21 instance 72 in 2D',\n",
       " 'BBOB suite problem f21 instance 73 in 2D',\n",
       " 'BBOB suite problem f21 instance 74 in 2D',\n",
       " 'BBOB suite problem f21 instance 75 in 2D',\n",
       " 'BBOB suite problem f21 instance 76 in 2D',\n",
       " 'BBOB suite problem f21 instance 77 in 2D',\n",
       " 'BBOB suite problem f21 instance 78 in 2D',\n",
       " 'BBOB suite problem f21 instance 79 in 2D',\n",
       " 'BBOB suite problem f21 instance 80 in 2D',\n",
       " 'BBOB suite problem f22 instance 1 in 2D',\n",
       " 'BBOB suite problem f22 instance 2 in 2D',\n",
       " 'BBOB suite problem f22 instance 3 in 2D',\n",
       " 'BBOB suite problem f22 instance 4 in 2D',\n",
       " 'BBOB suite problem f22 instance 5 in 2D',\n",
       " 'BBOB suite problem f22 instance 71 in 2D',\n",
       " 'BBOB suite problem f22 instance 72 in 2D',\n",
       " 'BBOB suite problem f22 instance 73 in 2D',\n",
       " 'BBOB suite problem f22 instance 74 in 2D',\n",
       " 'BBOB suite problem f22 instance 75 in 2D',\n",
       " 'BBOB suite problem f22 instance 76 in 2D',\n",
       " 'BBOB suite problem f22 instance 77 in 2D',\n",
       " 'BBOB suite problem f22 instance 78 in 2D',\n",
       " 'BBOB suite problem f22 instance 79 in 2D',\n",
       " 'BBOB suite problem f22 instance 80 in 2D',\n",
       " 'BBOB suite problem f21 instance 1 in 10D',\n",
       " 'BBOB suite problem f21 instance 2 in 10D',\n",
       " 'BBOB suite problem f21 instance 3 in 10D',\n",
       " 'BBOB suite problem f21 instance 4 in 10D',\n",
       " 'BBOB suite problem f21 instance 5 in 10D',\n",
       " 'BBOB suite problem f21 instance 71 in 10D',\n",
       " 'BBOB suite problem f21 instance 72 in 10D',\n",
       " 'BBOB suite problem f21 instance 73 in 10D',\n",
       " 'BBOB suite problem f21 instance 74 in 10D',\n",
       " 'BBOB suite problem f21 instance 75 in 10D',\n",
       " 'BBOB suite problem f21 instance 76 in 10D',\n",
       " 'BBOB suite problem f21 instance 77 in 10D',\n",
       " 'BBOB suite problem f21 instance 78 in 10D',\n",
       " 'BBOB suite problem f21 instance 79 in 10D',\n",
       " 'BBOB suite problem f21 instance 80 in 10D',\n",
       " 'BBOB suite problem f22 instance 1 in 10D',\n",
       " 'BBOB suite problem f22 instance 2 in 10D',\n",
       " 'BBOB suite problem f22 instance 3 in 10D',\n",
       " 'BBOB suite problem f22 instance 4 in 10D',\n",
       " 'BBOB suite problem f22 instance 5 in 10D',\n",
       " 'BBOB suite problem f22 instance 71 in 10D',\n",
       " 'BBOB suite problem f22 instance 72 in 10D',\n",
       " 'BBOB suite problem f22 instance 73 in 10D',\n",
       " 'BBOB suite problem f22 instance 74 in 10D',\n",
       " 'BBOB suite problem f22 instance 75 in 10D',\n",
       " 'BBOB suite problem f22 instance 76 in 10D',\n",
       " 'BBOB suite problem f22 instance 77 in 10D',\n",
       " 'BBOB suite problem f22 instance 78 in 10D',\n",
       " 'BBOB suite problem f22 instance 79 in 10D',\n",
       " 'BBOB suite problem f22 instance 80 in 10D']"
      ]
     },
     "execution_count": 34,
     "metadata": {},
     "output_type": "execute_result"
    }
   ],
   "source": [
    "suite.problem_names"
   ]
  },
  {
   "cell_type": "code",
   "execution_count": 12,
   "metadata": {},
   "outputs": [
    {
     "data": {
      "text/plain": [
       "30"
      ]
     },
     "execution_count": 12,
     "metadata": {},
     "output_type": "execute_result"
    }
   ],
   "source": [
    "len(suite)"
   ]
  },
  {
   "cell_type": "code",
   "execution_count": 15,
   "metadata": {},
   "outputs": [
    {
     "data": {
      "text/plain": [
       "['__call__',\n",
       " '__class__',\n",
       " '__delattr__',\n",
       " '__dir__',\n",
       " '__doc__',\n",
       " '__enter__',\n",
       " '__eq__',\n",
       " '__exit__',\n",
       " '__format__',\n",
       " '__ge__',\n",
       " '__getattribute__',\n",
       " '__gt__',\n",
       " '__hash__',\n",
       " '__init__',\n",
       " '__init_subclass__',\n",
       " '__le__',\n",
       " '__lt__',\n",
       " '__ne__',\n",
       " '__new__',\n",
       " '__pyx_vtable__',\n",
       " '__reduce__',\n",
       " '__reduce_ex__',\n",
       " '__repr__',\n",
       " '__setattr__',\n",
       " '__setstate__',\n",
       " '__sizeof__',\n",
       " '__str__',\n",
       " '__subclasshook__',\n",
       " '_best_parameter',\n",
       " '_f0',\n",
       " 'add_observer',\n",
       " 'best_observed_fvalue1',\n",
       " 'constraint',\n",
       " 'dimension',\n",
       " 'evaluations',\n",
       " 'evaluations_constraints',\n",
       " 'final_target_hit',\n",
       " 'free',\n",
       " 'id',\n",
       " 'index',\n",
       " 'info',\n",
       " 'initial_solution',\n",
       " 'initial_solution_proposal',\n",
       " 'is_observed',\n",
       " 'largest_fvalues_of_interest',\n",
       " 'logger_biobj_feed_solution',\n",
       " 'lower_bounds',\n",
       " 'name',\n",
       " 'number_of_constraints',\n",
       " 'number_of_objectives',\n",
       " 'number_of_variables',\n",
       " 'observe_with',\n",
       " 'observers',\n",
       " 'recommend',\n",
       " 'suite',\n",
       " 'upper_bounds']"
      ]
     },
     "execution_count": 15,
     "metadata": {},
     "output_type": "execute_result"
    }
   ],
   "source": [
    "p = suite.next_problem()\n",
    "dir(p)"
   ]
  },
  {
   "cell_type": "code",
   "execution_count": 28,
   "metadata": {},
   "outputs": [
    {
     "name": "stdout",
     "output_type": "stream",
     "text": [
      "1.7976931348623157e+308\n",
      "1.7976931348623157e+308\n",
      "1.7976931348623157e+308\n",
      "1.7976931348623157e+308\n",
      "1.7976931348623157e+308\n",
      "1.7976931348623157e+308\n",
      "1.7976931348623157e+308\n",
      "1.7976931348623157e+308\n",
      "1.7976931348623157e+308\n",
      "1.7976931348623157e+308\n",
      "1.7976931348623157e+308\n",
      "1.7976931348623157e+308\n",
      "1.7976931348623157e+308\n",
      "1.7976931348623157e+308\n",
      "1.7976931348623157e+308\n",
      "1.7976931348623157e+308\n",
      "1.7976931348623157e+308\n",
      "1.7976931348623157e+308\n",
      "1.7976931348623157e+308\n",
      "1.7976931348623157e+308\n",
      "1.7976931348623157e+308\n",
      "1.7976931348623157e+308\n",
      "1.7976931348623157e+308\n",
      "1.7976931348623157e+308\n",
      "1.7976931348623157e+308\n",
      "1.7976931348623157e+308\n",
      "1.7976931348623157e+308\n",
      "1.7976931348623157e+308\n",
      "1.7976931348623157e+308\n",
      "1.7976931348623157e+308\n"
     ]
    }
   ],
   "source": [
    "for problem in suite:\n",
    "    print(problem.best_observed_fvalue1)"
   ]
  },
  {
   "cell_type": "code",
   "execution_count": 31,
   "metadata": {},
   "outputs": [
    {
     "name": "stdout",
     "output_type": "stream",
     "text": [
      "0\n",
      "0\n",
      "0\n",
      "0\n",
      "0\n",
      "0\n",
      "0\n",
      "0\n",
      "0\n",
      "0\n",
      "0\n",
      "0\n",
      "0\n",
      "0\n",
      "0\n",
      "0\n",
      "0\n",
      "0\n",
      "0\n",
      "0\n",
      "0\n",
      "0\n",
      "0\n",
      "0\n",
      "0\n",
      "0\n",
      "0\n",
      "0\n",
      "0\n",
      "0\n"
     ]
    }
   ],
   "source": [
    "returns = []\n",
    "for problem in suite:\n",
    "# apply restarts while neither the problem is solved nor the budget is exhausted    \n",
    "#     while (problem.evaluations < problem.dimension * budget_multiplier\n",
    "#            and not problem.final_target_hit):\n",
    "    ret = fmin(problem, problem.lower_bounds, problem.upper_bounds, problem.dimension,  problem.dimension * budget_multiplier) # here we assume that `fmin` evaluates the final/returned solution\n",
    "    \n",
    "    returns.append(ret)\n",
    "    print(problem.final_target_hit)"
   ]
  },
  {
   "cell_type": "code",
   "execution_count": 19,
   "metadata": {},
   "outputs": [
    {
     "ename": "IndexError",
     "evalue": "list index out of range",
     "output_type": "error",
     "traceback": [
      "\u001b[0;31m---------------------------------------------------------------------------\u001b[0m",
      "\u001b[0;31mIndexError\u001b[0m                                Traceback (most recent call last)",
      "\u001b[0;32m<ipython-input-19-8698f50d3241>\u001b[0m in \u001b[0;36m<module>\u001b[0;34m()\u001b[0m\n\u001b[0;32m----> 1\u001b[0;31m \u001b[0mlen\u001b[0m\u001b[0;34m(\u001b[0m\u001b[0mreturns\u001b[0m\u001b[0;34m[\u001b[0m\u001b[0;36m0\u001b[0m\u001b[0;34m]\u001b[0m\u001b[0;34m)\u001b[0m\u001b[0;34m\u001b[0m\u001b[0m\n\u001b[0m",
      "\u001b[0;31mIndexError\u001b[0m: list index out of range"
     ]
    }
   ],
   "source": [
    "len(returns[0])"
   ]
  },
  {
   "cell_type": "code",
   "execution_count": 17,
   "metadata": {},
   "outputs": [
    {
     "ename": "IndexError",
     "evalue": "list index out of range",
     "output_type": "error",
     "traceback": [
      "\u001b[0;31m---------------------------------------------------------------------------\u001b[0m",
      "\u001b[0;31mIndexError\u001b[0m                                Traceback (most recent call last)",
      "\u001b[0;32m<ipython-input-17-992c610ac5c8>\u001b[0m in \u001b[0;36m<module>\u001b[0;34m()\u001b[0m\n\u001b[0;32m----> 1\u001b[0;31m \u001b[0msolution\u001b[0m \u001b[0;34m=\u001b[0m \u001b[0mreturns\u001b[0m\u001b[0;34m[\u001b[0m\u001b[0;36m0\u001b[0m\u001b[0;34m]\u001b[0m\u001b[0;34m[\u001b[0m\u001b[0;34m-\u001b[0m\u001b[0;36m1\u001b[0m\u001b[0;34m]\u001b[0m\u001b[0;34m\u001b[0m\u001b[0m\n\u001b[0m\u001b[1;32m      2\u001b[0m \u001b[0msolution\u001b[0m\u001b[0;34m.\u001b[0m\u001b[0mnfe\u001b[0m\u001b[0;34m\u001b[0m\u001b[0m\n",
      "\u001b[0;31mIndexError\u001b[0m: list index out of range"
     ]
    }
   ],
   "source": [
    "solution = returns[0][-1]\n",
    "solution.nfe"
   ]
  },
  {
   "cell_type": "code",
   "execution_count": 44,
   "metadata": {},
   "outputs": [],
   "source": [
    "arr = [100, 2, 3, 4, 5, 6]"
   ]
  },
  {
   "cell_type": "code",
   "execution_count": 48,
   "metadata": {},
   "outputs": [
    {
     "data": {
      "text/plain": [
       "2"
      ]
     },
     "execution_count": 48,
     "metadata": {},
     "output_type": "execute_result"
    }
   ],
   "source": [
    "import numpy as np\n",
    "np.min(arr)"
   ]
  },
  {
   "cell_type": "code",
   "execution_count": null,
   "metadata": {},
   "outputs": [],
   "source": []
  }
 ],
 "metadata": {
  "kernelspec": {
   "display_name": "Python 3",
   "language": "python",
   "name": "python3"
  },
  "language_info": {
   "codemirror_mode": {
    "name": "ipython",
    "version": 3
   },
   "file_extension": ".py",
   "mimetype": "text/x-python",
   "name": "python",
   "nbconvert_exporter": "python",
   "pygments_lexer": "ipython3",
   "version": "3.7.0"
  }
 },
 "nbformat": 4,
 "nbformat_minor": 2
}
