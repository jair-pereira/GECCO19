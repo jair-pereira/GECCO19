{
 "cells": [
  {
   "cell_type": "code",
   "execution_count": 3,
   "metadata": {},
   "outputs": [
    {
     "data": {
      "text/plain": [
       "8.447882558725608"
      ]
     },
     "execution_count": 3,
     "metadata": {},
     "output_type": "execute_result"
    }
   ],
   "source": [
    "%matplotlib notebook\n",
    "\n",
    "import numpy as np\n",
    "import src\n",
    "\n",
    "import testFunctions as tf\n",
    "from animation import animation, animation3D\n",
    "\n",
    "def de():\n",
    "    #instantiate solutions \n",
    "    X = np.array([src.solution(my_func, dimension, bounds) for i in range(n)])\n",
    "    #initialize solutions \n",
    "    [Xi.initRandom() for Xi in X]\n",
    "    \n",
    "    #just so we can have some animations\n",
    "    src.solution.updateHistory(X) # it is not necessary for the grammar\n",
    "    \n",
    "    for it in range(iteration):\n",
    "        #1. Select individuals for de_operator\n",
    "        sel = src.op.selection_for_op_de(X.shape[0]) #return indices\n",
    "        #2. de_operator = mutation+crossover\n",
    "        X1  = src.op.apply_op_de(src.op.op_de, X, sel, (crx, beta, pr))\n",
    "        #3. Select individual for the next generation\n",
    "        X = src.op.selection_de(X, X1)\n",
    "        \n",
    "        src.solution.updateHistory(X) \n",
    "\n",
    "    return X\n",
    "    \n",
    "##param\n",
    "n = 50\n",
    "iteration = 100\n",
    "\n",
    "my_func   = tf.ackley_function\n",
    "dimension = 5\n",
    "bounds    = -10, 10\n",
    "\n",
    "crx  = src.op.crx_exponential\n",
    "beta = .5\n",
    "pr   = .7\n",
    "\n",
    "de()\n",
    "src.solution.best.getFitness()\n",
    "#animation(src.solution.history, my_func, *bounds)"
   ]
  },
  {
   "cell_type": "code",
   "execution_count": 9,
   "metadata": {},
   "outputs": [
    {
     "data": {
      "text/plain": [
       "8.447882558725608"
      ]
     },
     "execution_count": 9,
     "metadata": {},
     "output_type": "execute_result"
    }
   ],
   "source": [
    "X = np.array([src.solution(my_func, dimension, bounds) for i in range(n)])\n",
    "[Xi.initRandom() for Xi in X]\n",
    "sel = src.op.selection_for_op_de(X.shape[0]) #return indices\n",
    "        #2. de_operator = mutation+crossover\n",
    "X1  = src.op.apply_op_de(src.op.op_de, X, sel, (crx, beta, pr))\n",
    "        #3. Select individual for the next generation\n",
    "X = src.op.selection_de(X, X1)\n",
    "src.solution.best.getFitness()"
   ]
  },
  {
   "cell_type": "code",
   "execution_count": 23,
   "metadata": {},
   "outputs": [],
   "source": [
    "data = {'p':0.7, 'k':0.1, 'n':50}\n",
    "def function(func, **data):\n",
    "    result = func(func3, data['n'])\n",
    "    return result\n",
    "\n",
    "def func2(n):\n",
    "    return n * 2\n",
    "\n"
   ]
  },
  {
   "cell_type": "code",
   "execution_count": 24,
   "metadata": {},
   "outputs": [
    {
     "data": {
      "text/plain": [
       "100"
      ]
     },
     "execution_count": 24,
     "metadata": {},
     "output_type": "execute_result"
    }
   ],
   "source": [
    "function(func2, **data)"
   ]
  },
  {
   "cell_type": "code",
   "execution_count": 22,
   "metadata": {},
   "outputs": [
    {
     "data": {
      "text/plain": [
       "array([-1,  0,  1,  2,  3,  4,  5,  6,  7])"
      ]
     },
     "execution_count": 22,
     "metadata": {},
     "output_type": "execute_result"
    }
   ],
   "source": [
    "X = np.arange(9)\n",
    "X1 = X - 1\n",
    "X = X1\n",
    "X"
   ]
  },
  {
   "cell_type": "code",
   "execution_count": null,
   "metadata": {},
   "outputs": [],
   "source": []
  }
 ],
 "metadata": {
  "kernelspec": {
   "display_name": "Python 3",
   "language": "python",
   "name": "python3"
  },
  "language_info": {
   "codemirror_mode": {
    "name": "ipython",
    "version": 3
   },
   "file_extension": ".py",
   "mimetype": "text/x-python",
   "name": "python",
   "nbconvert_exporter": "python",
   "pygments_lexer": "ipython3",
   "version": "3.7.0"
  }
 },
 "nbformat": 4,
 "nbformat_minor": 2
}
