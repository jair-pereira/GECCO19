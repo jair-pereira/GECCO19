{
 "cells": [
  {
   "cell_type": "code",
   "execution_count": 1,
   "metadata": {},
   "outputs": [],
   "source": [
    "#!/usr/bin/env python\n",
    "\"\"\"A short and simple example experiment with restarts.\n",
    "\n",
    "The code is fully functional but mainly emphasises on readability.\n",
    "Hence it neither produces any progress messages (which can be very\n",
    "annoying for long experiments) nor provides batch distribution,\n",
    "as `example_experiment.py` does.\n",
    "\n",
    "To apply the code to a different solver, `fmin` must be re-assigned or\n",
    "re-defined accordingly. For example, using `cma.fmin` instead of\n",
    "`scipy.optimize.fmin` can be done like::\n",
    "\n",
    "    import cma\n",
    "    def fmin(fun, x0):\n",
    "        return cma.fmin(fun, x0, 2, {'verbose':-9})\n",
    "\n",
    "\"\"\"\n",
    "from __future__ import division, print_function\n",
    "import cocoex, cocopp  # experimentation and post-processing modules\n",
    "import scipy.optimize  # to define the solver to be benchmarked\n",
    "from numpy.random import rand  # for randomised restarts\n",
    "import os, webbrowser  # to show post-processed results in the browser"
   ]
  },
  {
   "cell_type": "code",
   "execution_count": 2,
   "metadata": {},
   "outputs": [],
   "source": [
    "### input\n",
    "output_folder = \"Static_100\"\n",
    "fmin = scipy.optimize.fmin\n",
    "max_nfe = 1000# increase to 10, 100, ...\n",
    "\n",
    "# # fmin is re-defined to call our solver\n",
    "# def fmin(fun, lbounds, ubounds, dim, budget):\n",
    "#     result = solvers.franken10(50, fun, lbounds, ubounds, dim, 1000)\n",
    "#     return result"
   ]
  },
  {
   "cell_type": "code",
   "execution_count": 4,
   "metadata": {},
   "outputs": [],
   "source": [
    "### prepare\n",
    "suite = cocoex.Suite(\"bbob\", \"\", \"function_indices:1,15 dimensions:20,40 instance_indices:1-10\")\n",
    "observer = cocoex.Observer(\"bbob\", \"result_folder: \" + output_folder)\n",
    "minimal_print = cocoex.utilities.MiniPrint()"
   ]
  },
  {
   "cell_type": "code",
   "execution_count": 9,
   "metadata": {},
   "outputs": [],
   "source": [
    "def get_best_indv():\n",
    "    pdlog = process_training_log()\n",
    "    filter_precision = pdlog[pdlog['PRECISION'] == pdlog['PRECISION'].min()]\n",
    "    \n",
    "    generation = -1\n",
    "    fitness = 0\n",
    "    for i, row in filter_precision.filter(regex=\"FIT_INDV\").iterrows():\n",
    "        bestfitness = row.max()\n",
    "    \n",
    "        if bestfitness >= fitness:\n",
    "            generation = i\n",
    "            fitness    = bestfitness\n",
    "            \n",
    "    print(\"Best individual at generation :\", generation, \"(\",experiment_name,\")\")\n",
    "    return generation"
   ]
  },
  {
   "cell_type": "code",
   "execution_count": 8,
   "metadata": {},
   "outputs": [],
   "source": [
    "def process_training_log():\n",
    "    #load data\n",
    "    data_log = pd.read_csv(\"./results/\"+experiment_name+\"/log.csv\", header=None)\n",
    "\n",
    "    #header\n",
    "    header = [\"GENERATIONS\", \"PRECISION\", \"FIT_MEDIAN\"]\n",
    "    for i in range(1, data_log.shape[1] - 2):\n",
    "        header.append(\"FIT_INDV_\"+str(i))\n",
    "    data_log.columns = header\n",
    "    \n",
    "    return data_log"
   ]
  },
  {
   "cell_type": "code",
   "execution_count": 5,
   "metadata": {},
   "outputs": [
    {
     "data": {
      "text/plain": [
       "'import numpy as np\\nfrom src.src.solution import Solution\\nimport src.src.operators as op\\ndef ge(n, my_func, bounds, dimension, max_nfe):\\n  Solution.setProblem(my_func, bounds, dimension, maximize=False)\\n  Solution.repair = op.repair_truncate\\n  X = Solution.initialize(n)\\n  for Xi in X:    Xi.setX(op.init_random(*Solution.bounds, Solution.dimension))\\n  [Xi.getFitness() for Xi in X]\\n  Solution.updateHistory(X)\\n  while Solution.nfe < max_nfe:\\n    U = X\\n    #Round 1\\n    S1 = op.select_current(X)\\n    U = op.w_pso(S1, w=0.50, c1=0.00, c2=0.75)\\n    X  = U\\n    #Round 2\\n    S1 = op.select_tournament(U, n=1, k=int(n*0.10))\\n    S2 = op.select_tournament(X, n=1, k=int(n*0.75))\\n    U  = op.w_crx_blend2(S1, S2, alpha=0.50)\\n    X  = op.replace_if_best(X, U)\\n    #Round Drop\\n    X = op.drop_worst(X, pr=0.10, k=1) \\n    [Xi.getFitness() for Xi in X]\\n  return X\\nge(400, my_func, bounds, dimension, max_nfe)\\nXXX_output_XXX = Solution.best.getFitness()\\n'"
      ]
     },
     "execution_count": 5,
     "metadata": {},
     "output_type": "execute_result"
    }
   ],
   "source": [
    "### process best individual\n",
    "experiment_name = \"T500_T10_E1\"\n",
    "file = open(\"./results/\"+experiment_name+\"/\"+str(get_best_indv())+\".txt\", 'r')\n",
    "best = file.readlines()\n",
    "file.close()\n",
    "code = \"import numpy as np\\nfrom src.src.solution import Solution\\nimport src.src.operators as op\\n\"\n",
    "for line in best[6:-8]:    code += line\n",
    "code"
   ]
  },
  {
   "cell_type": "code",
   "execution_count": 6,
   "metadata": {},
   "outputs": [
    {
     "name": "stdout",
     "output_type": "stream",
     "text": [
      "20D: ....................\n",
      "40D: ...................."
     ]
    }
   ],
   "source": [
    "### go\n",
    "for problem in suite:  # this loop will take several minutes or longer\n",
    "    problem.observe_with(observer)  # generates the data for cocopp post-processing\n",
    "    x0 = problem.initial_solution\n",
    "    # apply restarts while neither the problem is solved nor the budget is exhausted\n",
    "    while (problem.evaluations < max_nfe\n",
    "           and not problem.final_target_hit):\n",
    "        d = {\n",
    "            \"max_nfe\"  : max_nfe, \n",
    "            \"dimension\": problem.dimension,\n",
    "            \"my_func\"  : problem,\n",
    "            \"bounds\"   : (problem.lower_bounds[0], problem.upper_bounds[0])\n",
    "            }\n",
    "        exec(code, d)\n",
    "        x0 = problem.lower_bounds + ((rand(problem.dimension) + rand(problem.dimension)) *\n",
    "                    (problem.upper_bounds - problem.lower_bounds) / 2)\n",
    "    minimal_print(problem, final=problem.index == len(suite) - 1)"
   ]
  },
  {
   "cell_type": "code",
   "execution_count": 7,
   "metadata": {},
   "outputs": [
    {
     "name": "stdout",
     "output_type": "stream",
     "text": [
      "Post-processing (1)\n",
      "  Using:\n",
      "    ./exdata/Static_100-001\n",
      "\n",
      "Post-processing (1)\n",
      "  Will generate output data in folder ppdata/Static_100-001\n",
      "    this might take several minutes.\n",
      "Scaling figures...\n",
      "Loading best algorithm data from refalgs/best2009-bbob.tar.gz ...\n"
     ]
    },
    {
     "name": "stderr",
     "output_type": "stream",
     "text": [
      "/anaconda3/lib/python3.7/site-packages/cocopp-2.2.1.10-py3.7.egg/cocopp/pproc.py:1103: UserWarning:   less than 15 instances in [1, 2, 3, 4, 5, 71, 72, 73, 74, 75] (f1, 20D)\n",
      "  str(self.dim) + 'D)')\n",
      "/anaconda3/lib/python3.7/site-packages/matplotlib/cbook/__init__.py:2349: DeprecationWarning: Using or importing the ABCs from 'collections' instead of from 'collections.abc' is deprecated, and in 3.8 it will stop working\n",
      "  if isinstance(obj, collections.Iterator):\n"
     ]
    },
    {
     "name": "stdout",
     "output_type": "stream",
     "text": [
      "  Data consistent according to consistency_check() in pproc.DataSet\n",
      "  using: /anaconda3/lib/python3.7/site-packages/cocopp-2.2.1.10-py3.7.egg/cocopp/refalgs/best2009-bbob.tar.gz\n",
      "  done (Tue Mar 26 17:51:31 2019).\n",
      "  done (Tue Mar 26 17:51:33 2019).\n",
      "Generating LaTeX tables...\n",
      "  done (Tue Mar 26 17:51:33 2019).\n",
      "ECDF graphs...\n"
     ]
    },
    {
     "name": "stderr",
     "output_type": "stream",
     "text": [
      "/anaconda3/lib/python3.7/site-packages/cocopp-2.2.1.10-py3.7.egg/cocopp/testbedsettings.py:175: ResourceWarning: unclosed file <_io.TextIOWrapper name='/anaconda3/lib/python3.7/site-packages/cocopp-2.2.1.10-py3.7.egg/cocopp/bbob-benchmarkinfos.txt' mode='r' encoding='UTF-8'>\n",
      "  self.info_filename)).readlines():\n"
     ]
    },
    {
     "name": "stdout",
     "output_type": "stream",
     "text": [
      "  done (Tue Mar 26 17:51:38 2019).\n",
      "ECDF graphs per function...\n",
      "  done (Tue Mar 26 17:51:43 2019).\n",
      "aRT loss ratio figures and tables...\n",
      "  done (Tue Mar 26 17:51:45 2019).\n",
      "Output data written to folder /Users/annabogdanova/Documents/Codes/SwarmGE/GECCO19/ppdata/Static_100-001\n",
      "Setting changes in `cocopp.genericsettings` compared to default:\n",
      "    simulated_runlength_bootstrap_sample_size: from 10 to 10.098990100989901\n",
      "ALL done (Tue Mar 26 17:51:45 2019).\n"
     ]
    },
    {
     "data": {
      "text/plain": [
       "True"
      ]
     },
     "execution_count": 7,
     "metadata": {},
     "output_type": "execute_result"
    }
   ],
   "source": [
    "### post-process data\n",
    "cocopp.main(observer.result_folder)  # re-run folders look like \"...-001\" etc\n",
    "webbrowser.open(\"file://\" + os.getcwd() + \"/ppdata/index.html\")"
   ]
  },
  {
   "cell_type": "code",
   "execution_count": null,
   "metadata": {},
   "outputs": [],
   "source": []
  }
 ],
 "metadata": {
  "kernelspec": {
   "display_name": "Python 3",
   "language": "python",
   "name": "python3"
  },
  "language_info": {
   "codemirror_mode": {
    "name": "ipython",
    "version": 3
   },
   "file_extension": ".py",
   "mimetype": "text/x-python",
   "name": "python",
   "nbconvert_exporter": "python",
   "pygments_lexer": "ipython3",
   "version": "3.7.0"
  }
 },
 "nbformat": 4,
 "nbformat_minor": 2
}
