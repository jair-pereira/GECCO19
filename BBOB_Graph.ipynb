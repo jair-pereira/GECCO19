{
 "cells": [
  {
   "cell_type": "code",
   "execution_count": 1,
   "metadata": {},
   "outputs": [],
   "source": [
    "#!/usr/bin/env python\n",
    "\"\"\"A short and simple example experiment with restarts.\n",
    "\n",
    "The code is fully functional but mainly emphasises on readability.\n",
    "Hence it neither produces any progress messages (which can be very\n",
    "annoying for long experiments) nor provides batch distribution,\n",
    "as `example_experiment.py` does.\n",
    "\n",
    "To apply the code to a different solver, `fmin` must be re-assigned or\n",
    "re-defined accordingly. For example, using `cma.fmin` instead of\n",
    "`scipy.optimize.fmin` can be done like::\n",
    "\n",
    "    import cma\n",
    "    def fmin(fun, x0):\n",
    "        return cma.fmin(fun, x0, 2, {'verbose':-9})\n",
    "\n",
    "\"\"\"\n",
    "from __future__ import division, print_function\n",
    "import cocoex, cocopp  # experimentation and post-processing modules\n",
    "import scipy.optimize  # to define the solver to be benchmarked\n",
    "from numpy.random import rand  # for randomised restarts\n",
    "import os, webbrowser  # to show post-processed results in the browser\n",
    "import pandas as pd\n",
    "import sys, pickle, datetime"
   ]
  },
  {
   "cell_type": "code",
   "execution_count": 2,
   "metadata": {},
   "outputs": [],
   "source": [
    "### input\n",
    "output_folder = \"TEST_static100\"\n",
    "nfe_base = 1e+5# increase to 10, 100, ...\n",
    "\n",
    "# # fmin is re-defined to call our solver\n",
    "# def fmin(fun, lbounds, ubounds, dim, budget):\n",
    "#     result = solvers.franken10(50, fun, lbounds, ubounds, dim, 1000)\n",
    "#     return result"
   ]
  },
  {
   "cell_type": "code",
   "execution_count": 3,
   "metadata": {},
   "outputs": [],
   "source": [
    "### prepare\n",
    "suite = cocoex.Suite(\"bbob\", \"\", \"function_indices:1,15 dimensions:10,20 instance_indices:1-10\")\n",
    "observer = cocoex.Observer(\"bbob\", \"result_folder: \" + output_folder)\n",
    "minimal_print = cocoex.utilities.MiniPrint()"
   ]
  },
  {
   "cell_type": "code",
   "execution_count": 4,
   "metadata": {},
   "outputs": [],
   "source": [
    "def process_training_log():\n",
    "    #load data\n",
    "    data_log = pd.read_csv(\"./results/\"+experiment_name+\"/log.csv\", header=None)\n",
    "\n",
    "    #header\n",
    "    header = [\"GENERATIONS\", \"PRECISION\", \"FIT_MEDIAN\", \"FIT_ELITE\"]\n",
    "    for i in range(1, data_log.shape[1] - 3):\n",
    "        header.append(\"FIT_INDV_\"+str(i))\n",
    "    data_log.columns = header\n",
    "    \n",
    "    return data_log\n",
    "\n",
    "def get_best_indv():\n",
    "    pdlog = process_training_log()\n",
    "    filter_precision = pdlog[pdlog['PRECISION'] == pdlog['PRECISION'].min()]\n",
    "    \n",
    "    generation = -1\n",
    "    fitness = 0\n",
    "    for i, row in filter_precision.filter(regex=\"FIT_INDV\").iterrows():\n",
    "        bestfitness = row.max()\n",
    "    \n",
    "        if bestfitness >= fitness:\n",
    "            generation = filter_precision['GENERATIONS'][i]\n",
    "            fitness    = bestfitness\n",
    "            \n",
    "    print(\"Best at generation:\", generation, \"Fitness:\", fitness, \"(\",experiment_name,\")\\n\")\n",
    "    return generation"
   ]
  },
  {
   "cell_type": "code",
   "execution_count": 5,
   "metadata": {},
   "outputs": [
    {
     "name": "stdout",
     "output_type": "stream",
     "text": [
      "Best at generation: 100 Fitness: 1.0 ( 1K_static100 )\n",
      "\n",
      "import numpy as np\n",
      "from src.src.solution import Solution\n",
      "import src.src.operators as op\n",
      "def ge(n, my_func, bounds, dimension, max_nfe):\n",
      "  Solution.setProblem(my_func, bounds, dimension, maximize=False)\n",
      "  Solution.repair = op.repair_random\n",
      "  X = Solution.initialize(n)\n",
      "  for Xi in X:    Xi.setX(op.init_random(*Solution.bounds, Solution.dimension))\n",
      "  [Xi.getFitness() for Xi in X]\n",
      "  Solution.updateHistory(X)\n",
      "  while Solution.nfe < max_nfe:\n",
      "    U = X\n",
      "    #Round 1\n",
      "    S1 = op.select_tournament(U, n=1, k=int(n*0.10))\n",
      "    U = op.w_levy_flight(S1)\n",
      "    X  = U\n",
      "    #Round 2\n",
      "    S1 = op.select_current(U)\n",
      "    S2 = op.select_random(X, 1)\n",
      "    S3 = op.select_current(X)\n",
      "    U  = op.w_mut_de(S1, S2, S3, beta=0.50)\n",
      "    X  = U\n",
      "    [Xi.getFitness() for Xi in X]\n",
      "  return X\n",
      "ge(100, my_func, bounds, dimension, max_nfe)\n",
      "XXX_output_XXX = Solution.best.getFitness()\n",
      "\n"
     ]
    }
   ],
   "source": [
    "experiment_name = \"1K_static100\"\n",
    "#experiment_name = \"190327_partial/190325_04\"\n",
    "\n",
    "#get best code\n",
    "file = open(\"./results/\"+experiment_name+\"/\"+str(get_best_indv())+\".txt\", 'r')\n",
    "#file = open(\"./results/\"+experiment_name+\"/best.txt\", 'r')\n",
    "best = file.readlines()\n",
    "file.close()\n",
    "\n",
    "code = \"import numpy as np\\nfrom src.src.solution import Solution\\nimport src.src.operators as op\\n\"\n",
    "for line in best[6:-8]:\n",
    "    code += line\n",
    "    \n",
    "print(code)"
   ]
  },
  {
   "cell_type": "code",
   "execution_count": null,
   "metadata": {},
   "outputs": [
    {
     "name": "stdout",
     "output_type": "stream",
     "text": [
      "2019-03-28 13:22:09.017642\n",
      "10D: .bbob_f001_i01_d10  finished at  2019-03-28 13:24:36.037871\n",
      ".bbob_f001_i02_d10  finished at  2019-03-28 13:27:00.943797\n",
      ".bbob_f001_i03_d10  finished at  2019-03-28 13:29:15.392503\n",
      ".bbob_f001_i04_d10  finished at  2019-03-28 14:12:33.736512\n",
      ".bbob_f001_i05_d10  finished at  2019-03-28 14:34:18.856686\n",
      ".bbob_f001_i71_d10  finished at  2019-03-28 14:36:45.852287\n",
      ".bbob_f001_i72_d10  finished at  2019-03-28 14:39:33.950728\n",
      ".bbob_f001_i73_d10  finished at  2019-03-28 14:42:21.209245\n",
      ".bbob_f001_i74_d10  finished at  2019-03-28 14:45:05.191080\n",
      ".bbob_f001_i75_d10  finished at  2019-03-28 14:47:33.032684\n",
      ".bbob_f015_i01_d10  finished at  2019-03-28 14:50:01.569968\n",
      ".bbob_f015_i02_d10  finished at  2019-03-28 14:52:18.535528\n",
      ".bbob_f015_i03_d10  finished at  2019-03-28 14:54:37.275738\n",
      ".bbob_f015_i04_d10  finished at  2019-03-28 14:57:06.035031\n"
     ]
    }
   ],
   "source": [
    "### go\n",
    "start = datetime.datetime.now()\n",
    "print(start)\n",
    "for problem in suite:  # this loop will take several minutes or longer\n",
    "    problem.observe_with(observer)  # generates the data for cocopp post-processing\n",
    "    # apply restarts while neither the problem is solved nor the budget is exhausted\n",
    "    max_nfe = nfe_base*problem.dimension\n",
    "    \n",
    "    d = {\n",
    "        \"max_nfe\"  : max_nfe, \n",
    "        \"dimension\": problem.dimension,\n",
    "        \"my_func\"  : problem,\n",
    "        \"bounds\"   : (problem.lower_bounds[0], problem.upper_bounds[0])\n",
    "        }\n",
    "    exec(code, d)\n",
    "    minimal_print(problem, final=problem.index == len(suite) - 1)\n",
    "    print(problem.id, \" finished at \",datetime.datetime.now())\n",
    "time_lapse = datetime.datetime.now() - start\n"
   ]
  },
  {
   "cell_type": "code",
   "execution_count": 18,
   "metadata": {},
   "outputs": [
    {
     "name": "stdout",
     "output_type": "stream",
     "text": [
      "Post-processing (1)\n",
      "  Using:\n",
      "    ./exdata/1K_Static1\n",
      "\n",
      "Post-processing (1)\n",
      "  Will generate output data in folder ppdata/1K_Static1\n",
      "    this might take several minutes.\n",
      "Scaling figures...\n",
      "Loading best algorithm data from refalgs/best2009-bbob.tar.gz ...\n"
     ]
    },
    {
     "name": "stderr",
     "output_type": "stream",
     "text": [
      "/anaconda3/lib/python3.7/site-packages/cocopp-2.2.1.10-py3.7.egg/cocopp/pproc.py:1103: UserWarning:   less than 15 instances in [1, 2, 3, 4, 5, 71, 72, 73, 74, 75] (f1, 10D)\n",
      "  str(self.dim) + 'D)')\n"
     ]
    },
    {
     "name": "stdout",
     "output_type": "stream",
     "text": [
      "  Data consistent according to consistency_check() in pproc.DataSet\n",
      "  using: /anaconda3/lib/python3.7/site-packages/cocopp-2.2.1.10-py3.7.egg/cocopp/refalgs/best2009-bbob.tar.gz\n",
      "  done (Wed Mar 27 15:44:30 2019).\n",
      "  done (Wed Mar 27 15:44:31 2019).\n",
      "Generating LaTeX tables...\n",
      "  done (Wed Mar 27 15:44:31 2019).\n",
      "ECDF graphs...\n"
     ]
    },
    {
     "name": "stderr",
     "output_type": "stream",
     "text": [
      "/anaconda3/lib/python3.7/site-packages/cocopp-2.2.1.10-py3.7.egg/cocopp/testbedsettings.py:175: ResourceWarning: unclosed file <_io.TextIOWrapper name='/anaconda3/lib/python3.7/site-packages/cocopp-2.2.1.10-py3.7.egg/cocopp/bbob-benchmarkinfos.txt' mode='r' encoding='UTF-8'>\n",
      "  self.info_filename)).readlines():\n"
     ]
    },
    {
     "name": "stdout",
     "output_type": "stream",
     "text": [
      "  done (Wed Mar 27 15:44:35 2019).\n",
      "ECDF graphs per function...\n",
      "  done (Wed Mar 27 15:44:41 2019).\n",
      "aRT loss ratio figures and tables...\n",
      "  done (Wed Mar 27 15:44:43 2019).\n",
      "Output data written to folder /Users/annabogdanova/Documents/Codes/SwarmGE/GECCO19/ppdata/1K_Static1\n",
      "Setting changes in `cocopp.genericsettings` compared to default:\n",
      "    simulated_runlength_bootstrap_sample_size: from 10 to 10.098990100989901\n",
      "ALL done (Wed Mar 27 15:44:43 2019).\n"
     ]
    },
    {
     "data": {
      "text/plain": [
       "True"
      ]
     },
     "execution_count": 18,
     "metadata": {},
     "output_type": "execute_result"
    }
   ],
   "source": [
    "### post-process data\n",
    "cocopp.main(observer.result_folder)  # re-run folders look like \"...-001\" etc\n",
    "webbrowser.open(\"file://\" + os.getcwd() + \"/ppdata/index.html\")"
   ]
  },
  {
   "cell_type": "code",
   "execution_count": 27,
   "metadata": {},
   "outputs": [
    {
     "data": {
      "text/plain": [
       "4.4"
      ]
     },
     "execution_count": 27,
     "metadata": {},
     "output_type": "execute_result"
    }
   ],
   "source": [
    "# Var 1: 22 functions, 5 inst, 20D, 40D, e+4\n",
    "(6 * 2 * 22)/60"
   ]
  },
  {
   "cell_type": "code",
   "execution_count": null,
   "metadata": {},
   "outputs": [],
   "source": [
    "#"
   ]
  }
 ],
 "metadata": {
  "kernelspec": {
   "display_name": "Python 3",
   "language": "python",
   "name": "python3"
  },
  "language_info": {
   "codemirror_mode": {
    "name": "ipython",
    "version": 3
   },
   "file_extension": ".py",
   "mimetype": "text/x-python",
   "name": "python",
   "nbconvert_exporter": "python",
   "pygments_lexer": "ipython3",
   "version": "3.7.0"
  }
 },
 "nbformat": 4,
 "nbformat_minor": 2
}
