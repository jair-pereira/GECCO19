{
 "cells": [
  {
   "cell_type": "code",
   "execution_count": 1,
   "metadata": {},
   "outputs": [],
   "source": [
    "import numpy as np\n",
    "import pandas as pd\n",
    "import sys, pickle\n",
    "import cocoex, cocopp\n",
    "from src.solvers import pso, de, cs, ga"
   ]
  },
  {
   "cell_type": "code",
   "execution_count": 4,
   "metadata": {},
   "outputs": [
    {
     "ename": "NameError",
     "evalue": "name 'solvers' is not defined",
     "output_type": "error",
     "traceback": [
      "\u001b[1;31m---------------------------------------------------------------------------\u001b[0m",
      "\u001b[1;31mNameError\u001b[0m                                 Traceback (most recent call last)",
      "\u001b[1;32m<ipython-input-4-b2cee62858f2>\u001b[0m in \u001b[0;36m<module>\u001b[1;34m()\u001b[0m\n\u001b[0;32m      8\u001b[0m \u001b[1;32mfor\u001b[0m \u001b[0mproblem\u001b[0m \u001b[1;32min\u001b[0m \u001b[0msuite\u001b[0m\u001b[1;33m:\u001b[0m\u001b[1;33m\u001b[0m\u001b[0m\n\u001b[0;32m      9\u001b[0m     \u001b[0mproblem\u001b[0m\u001b[1;33m.\u001b[0m\u001b[0mobserve_with\u001b[0m\u001b[1;33m(\u001b[0m\u001b[0mobserver\u001b[0m\u001b[1;33m)\u001b[0m  \u001b[1;31m# generates the data for cocopp post-processing\u001b[0m\u001b[1;33m\u001b[0m\u001b[0m\n\u001b[1;32m---> 10\u001b[1;33m     \u001b[0msolvers\u001b[0m\u001b[1;33m.\u001b[0m\u001b[0mpso\u001b[0m\u001b[1;33m(\u001b[0m\u001b[1;36m200\u001b[0m\u001b[1;33m,\u001b[0m \u001b[0mproblem\u001b[0m\u001b[1;33m,\u001b[0m \u001b[1;33m(\u001b[0m\u001b[0mproblem\u001b[0m\u001b[1;33m.\u001b[0m\u001b[0mlower_bounds\u001b[0m\u001b[1;33m[\u001b[0m\u001b[1;36m0\u001b[0m\u001b[1;33m]\u001b[0m\u001b[1;33m,\u001b[0m \u001b[0mproblem\u001b[0m\u001b[1;33m.\u001b[0m\u001b[0mupper_bounds\u001b[0m\u001b[1;33m[\u001b[0m\u001b[1;36m0\u001b[0m\u001b[1;33m]\u001b[0m\u001b[1;33m)\u001b[0m\u001b[1;33m,\u001b[0m \u001b[0mproblem\u001b[0m\u001b[1;33m.\u001b[0m\u001b[0mdimension\u001b[0m\u001b[1;33m,\u001b[0m \u001b[1;36m4e+3\u001b[0m\u001b[1;33m,\u001b[0m \u001b[0mw\u001b[0m\u001b[1;33m=\u001b[0m\u001b[1;36m0.32\u001b[0m\u001b[1;33m,\u001b[0m \u001b[0mc1\u001b[0m\u001b[1;33m=\u001b[0m\u001b[1;36m0.01\u001b[0m\u001b[1;33m,\u001b[0m \u001b[0mc2\u001b[0m\u001b[1;33m=\u001b[0m\u001b[1;36m1.54\u001b[0m\u001b[1;33m)\u001b[0m\u001b[1;33m\u001b[0m\u001b[0m\n\u001b[0m\u001b[0;32m     11\u001b[0m     \u001b[1;31m#de(1600, problem, (problem.lower_bounds[0], problem.upper_bounds[0]), problem.dimension, 4e+3, beta=1.01, pr=0.93)\u001b[0m\u001b[1;33m\u001b[0m\u001b[1;33m\u001b[0m\u001b[0m\n\u001b[0;32m     12\u001b[0m     \u001b[1;31m#ga(400,  problem, (problem.lower_bounds[0], problem.upper_bounds[0]), problem.dimension, 4e+3, k=25, alpha=0.07, pr=0.79)\u001b[0m\u001b[1;33m\u001b[0m\u001b[1;33m\u001b[0m\u001b[0m\n",
      "\u001b[1;31mNameError\u001b[0m: name 'solvers' is not defined"
     ]
    }
   ],
   "source": [
    "# bbob observer\n",
    "output_folder = \"PSO_190326\"\n",
    "observer = cocoex.Observer(\"bbob\", \"result_folder: \" + output_folder)\n",
    "\n",
    "suite = cocoex.Suite(\"bbob\", \"\", \"function_indices:1,15 dimensions:20,40 instance_indices:1-10\")\n",
    "\n",
    "#run code on each problem in suite\n",
    "for problem in suite:\n",
    "    problem.observe_with(observer)  # generates the data for cocopp post-processing\n",
    "    pso(200, problem, (problem.lower_bounds[0], problem.upper_bounds[0]), problem.dimension, 4e+3, w=0.32, c1=0.01, c2=1.54)\n",
    "    #de(1600, problem, (problem.lower_bounds[0], problem.upper_bounds[0]), problem.dimension, 4e+3, beta=1.01, pr=0.93)\n",
    "    #ga(400,  problem, (problem.lower_bounds[0], problem.upper_bounds[0]), problem.dimension, 4e+3, k=25, alpha=0.07, pr=0.79)\n",
    "    #cs(50,   problem, (problem.lower_bounds[0], problem.upper_bounds[0]), problem.dimension, 4e+3, pr=0.97, k=25)\n",
    "\n",
    "cocopp.main(observer.result_folder)"
   ]
  },
  {
   "cell_type": "code",
   "execution_count": null,
   "metadata": {},
   "outputs": [],
   "source": []
  },
  {
   "cell_type": "code",
   "execution_count": null,
   "metadata": {},
   "outputs": [],
   "source": [
    "    "
   ]
  },
  {
   "cell_type": "code",
   "execution_count": null,
   "metadata": {},
   "outputs": [],
   "source": []
  },
  {
   "cell_type": "code",
   "execution_count": null,
   "metadata": {},
   "outputs": [],
   "source": []
  }
 ],
 "metadata": {
  "kernelspec": {
   "display_name": "Python 3",
   "language": "python",
   "name": "python3"
  },
  "language_info": {
   "codemirror_mode": {
    "name": "ipython",
    "version": 3
   },
   "file_extension": ".py",
   "mimetype": "text/x-python",
   "name": "python",
   "nbconvert_exporter": "python",
   "pygments_lexer": "ipython3",
   "version": "3.6.5"
  }
 },
 "nbformat": 4,
 "nbformat_minor": 2
}
