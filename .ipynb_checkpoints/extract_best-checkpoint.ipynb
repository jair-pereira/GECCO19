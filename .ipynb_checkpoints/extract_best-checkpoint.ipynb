{
 "cells": [
  {
   "cell_type": "code",
   "execution_count": 1,
   "metadata": {},
   "outputs": [],
   "source": [
    "import numpy as np\n",
    "import pandas as pd\n",
    "import sys, pickle\n",
    "import cocoex, cocopp\n",
    "\n",
    "def process_training_log():\n",
    "    #load data\n",
    "    data_log = pd.read_csv(\"./results/\"+experiment_name+\"/log.csv\", header=None)\n",
    "\n",
    "    #header\n",
    "    header = [\"GENERATIONS\", \"PRECISION\", \"FIT_MEDIAN\"]\n",
    "    for i in range(1, data_log.shape[1] - 2):\n",
    "        header.append(\"FIT_INDV_\"+str(i))\n",
    "    data_log.columns = header\n",
    "    \n",
    "    return data_log\n",
    "\n",
    "def get_best_indv():\n",
    "    pdlog = process_training_log()\n",
    "    filter_precision = pdlog[pdlog['PRECISION'] == pdlog['PRECISION'].min()]\n",
    "    \n",
    "    generation = -1\n",
    "    fitness = 0\n",
    "    for i, row in filter_precision.filter(regex=\"FIT_INDV\").iterrows():\n",
    "        bestfitness = row.max()\n",
    "    \n",
    "        if bestfitness >= fitness:\n",
    "            generation = i\n",
    "            fitness    = bestfitness\n",
    "            \n",
    "    print(\"Best individual at generation :\", generation, \"(\",experiment_name,\")\")\n",
    "    return generation"
   ]
  },
  {
   "cell_type": "code",
   "execution_count": null,
   "metadata": {},
   "outputs": [],
   "source": []
  },
  {
   "cell_type": "code",
   "execution_count": null,
   "metadata": {},
   "outputs": [],
   "source": []
  },
  {
   "cell_type": "code",
   "execution_count": null,
   "metadata": {},
   "outputs": [],
   "source": []
  },
  {
   "cell_type": "code",
   "execution_count": null,
   "metadata": {},
   "outputs": [],
   "source": []
  },
  {
   "cell_type": "code",
   "execution_count": null,
   "metadata": {},
   "outputs": [],
   "source": []
  },
  {
   "cell_type": "code",
   "execution_count": null,
   "metadata": {},
   "outputs": [],
   "source": []
  }
 ],
 "metadata": {
  "kernelspec": {
   "display_name": "Python 3",
   "language": "python",
   "name": "python3"
  },
  "language_info": {
   "codemirror_mode": {
    "name": "ipython",
    "version": 3
   },
   "file_extension": ".py",
   "mimetype": "text/x-python",
   "name": "python",
   "nbconvert_exporter": "python",
   "pygments_lexer": "ipython3",
   "version": "3.6.5"
  }
 },
 "nbformat": 4,
 "nbformat_minor": 2
}
