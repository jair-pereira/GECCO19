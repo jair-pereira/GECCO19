{
 "cells": [
  {
   "cell_type": "code",
   "execution_count": 5,
   "metadata": {},
   "outputs": [
    {
     "data": {
      "text/plain": [
       "array([<src.solution.solution object at 0x11f9b9c50>,\n",
       "       <src.solution.solution object at 0x11f8d9e48>,\n",
       "       <src.solution.solution object at 0x11f9b9be0>,\n",
       "       <src.solution.solution object at 0x11f8d9c18>,\n",
       "       <src.solution.solution object at 0x11f9b9d30>,\n",
       "       <src.solution.solution object at 0x11f8d9c50>,\n",
       "       <src.solution.solution object at 0x11f9b9da0>,\n",
       "       <src.solution.solution object at 0x10f3e1898>,\n",
       "       <src.solution.solution object at 0x10f491fd0>,\n",
       "       <src.solution.solution object at 0x11f9b9e48>,\n",
       "       <src.solution.solution object at 0x11dd09ba8>,\n",
       "       <src.solution.solution object at 0x10f4b10f0>,\n",
       "       <src.solution.solution object at 0x11f9b9ef0>,\n",
       "       <src.solution.solution object at 0x10f4b48d0>,\n",
       "       <src.solution.solution object at 0x11f9b9f60>,\n",
       "       <src.solution.solution object at 0x10f4b47b8>,\n",
       "       <src.solution.solution object at 0x10f4b4128>,\n",
       "       <src.solution.solution object at 0x10f4b44e0>,\n",
       "       <src.solution.solution object at 0x10f4b43c8>,\n",
       "       <src.solution.solution object at 0x11f9ba0b8>,\n",
       "       <src.solution.solution object at 0x10f4b4860>,\n",
       "       <src.solution.solution object at 0x10f4b4898>,\n",
       "       <src.solution.solution object at 0x10f4b40b8>,\n",
       "       <src.solution.solution object at 0x11f9ba198>,\n",
       "       <src.solution.solution object at 0x10f4b4470>,\n",
       "       <src.solution.solution object at 0x10f4b42e8>,\n",
       "       <src.solution.solution object at 0x10f4b45f8>,\n",
       "       <src.solution.solution object at 0x10f4b4630>,\n",
       "       <src.solution.solution object at 0x11f9ba2b0>,\n",
       "       <src.solution.solution object at 0x11f9ba2e8>], dtype=object)"
      ]
     },
     "execution_count": 5,
     "metadata": {},
     "output_type": "execute_result"
    }
   ],
   "source": [
    "import numpy as np\n",
    "import src\n",
    "\n",
    "import testFunctions as tf\n",
    "from animation import animation, animation3D\n",
    "\n",
    "def pso():\n",
    "    #instantiate solutions \n",
    "    X = np.array([src.solution(my_func, dimension, bounds) for i in range(n)])\n",
    "    #initialize solutions \n",
    "    [Xi.initRandom() for Xi in X]\n",
    "    \n",
    "    #just so we can have some animations\n",
    "    src.solution.updateHistory(X) # it is not necessary for the grammar\n",
    "    \n",
    "    for it in range(iteration):\n",
    "        #1. Select individuals for modification in this round\n",
    "        # none - select all. Alternative (bee algorythm) is to select only solutions drawn with fitness-dependant probability\n",
    "        #2. de_operator = create an alternative set of solutions X1 using mutation+crossover\n",
    "        X1  = src.op.op_pso(X, src.op.select_random, src.op.mut_pso, src.op.crx_exponential, **params)\n",
    "        #3. Select individual for the next generation <- accept all\n",
    "        X = X1\n",
    "        \n",
    "        src.solution.updateHistory(X) \n",
    "        src.solution.best.getFitness()\n",
    "\n",
    "    return X\n",
    "    \n",
    "##param\n",
    "n = 30\n",
    "iteration = 50\n",
    "\n",
    "my_func   = tf.ackley_function\n",
    "dimension = 5\n",
    "bounds    = -10, 10\n",
    "\n",
    "params = {'beta':.5, 'pr':.7, 'tournamment':5, 'w':.5, 'c1':.5, 'c2':1}\n",
    "\n",
    "de()\n",
    "# src.solution.best.getFitness()\n",
    "#animation(src.solution.history, my_func, *bounds)"
   ]
  },
  {
   "cell_type": "code",
   "execution_count": 2,
   "metadata": {},
   "outputs": [
    {
     "ename": "NameError",
     "evalue": "name 'X' is not defined",
     "output_type": "error",
     "traceback": [
      "\u001b[0;31m---------------------------------------------------------------------------\u001b[0m",
      "\u001b[0;31mNameError\u001b[0m                                 Traceback (most recent call last)",
      "\u001b[0;32m<ipython-input-2-3c21a461a440>\u001b[0m in \u001b[0;36m<module>\u001b[0;34m()\u001b[0m\n\u001b[0;32m----> 1\u001b[0;31m \u001b[0mX1\u001b[0m  \u001b[0;34m=\u001b[0m \u001b[0msrc\u001b[0m\u001b[0;34m.\u001b[0m\u001b[0mop\u001b[0m\u001b[0;34m.\u001b[0m\u001b[0mop_de\u001b[0m\u001b[0;34m(\u001b[0m\u001b[0mX\u001b[0m\u001b[0;34m,\u001b[0m \u001b[0msrc\u001b[0m\u001b[0;34m.\u001b[0m\u001b[0mop\u001b[0m\u001b[0;34m.\u001b[0m\u001b[0mselect_random\u001b[0m\u001b[0;34m,\u001b[0m \u001b[0msrc\u001b[0m\u001b[0;34m.\u001b[0m\u001b[0mop\u001b[0m\u001b[0;34m.\u001b[0m\u001b[0mmut_de\u001b[0m\u001b[0;34m,\u001b[0m \u001b[0msrc\u001b[0m\u001b[0;34m.\u001b[0m\u001b[0mop\u001b[0m\u001b[0;34m.\u001b[0m\u001b[0mcrx_exponential\u001b[0m\u001b[0;34m,\u001b[0m \u001b[0;34m**\u001b[0m\u001b[0mparams\u001b[0m\u001b[0;34m)\u001b[0m\u001b[0;34m\u001b[0m\u001b[0m\n\u001b[0m\u001b[1;32m      2\u001b[0m         \u001b[0;31m#3. Select individual for the next generation\u001b[0m\u001b[0;34m\u001b[0m\u001b[0;34m\u001b[0m\u001b[0m\n\u001b[1;32m      3\u001b[0m \u001b[0mX\u001b[0m \u001b[0;34m=\u001b[0m \u001b[0msrc\u001b[0m\u001b[0;34m.\u001b[0m\u001b[0mop\u001b[0m\u001b[0;34m.\u001b[0m\u001b[0mreplace_if_best\u001b[0m\u001b[0;34m(\u001b[0m\u001b[0mX\u001b[0m\u001b[0;34m,\u001b[0m \u001b[0mX1\u001b[0m\u001b[0;34m)\u001b[0m\u001b[0;34m\u001b[0m\u001b[0m\n\u001b[1;32m      4\u001b[0m \u001b[0;34m\u001b[0m\u001b[0m\n\u001b[1;32m      5\u001b[0m \u001b[0msrc\u001b[0m\u001b[0;34m.\u001b[0m\u001b[0msolution\u001b[0m\u001b[0;34m.\u001b[0m\u001b[0mupdateHistory\u001b[0m\u001b[0;34m(\u001b[0m\u001b[0mX\u001b[0m\u001b[0;34m)\u001b[0m\u001b[0;34m\u001b[0m\u001b[0m\n",
      "\u001b[0;31mNameError\u001b[0m: name 'X' is not defined"
     ]
    }
   ],
   "source": [
    "X1  = src.op.op_de(X, src.op.select_random, src.op.mut_de, src.op.crx_exponential, **params)\n",
    "        #3. Select individual for the next generation\n",
    "X = src.op.replace_if_best(X, X1)\n",
    "        \n",
    "src.solution.updateHistory(X) "
   ]
  },
  {
   "cell_type": "code",
   "execution_count": null,
   "metadata": {},
   "outputs": [],
   "source": []
  }
 ],
 "metadata": {
  "kernelspec": {
   "display_name": "Python 3",
   "language": "python",
   "name": "python3"
  },
  "language_info": {
   "codemirror_mode": {
    "name": "ipython",
    "version": 3
   },
   "file_extension": ".py",
   "mimetype": "text/x-python",
   "name": "python",
   "nbconvert_exporter": "python",
   "pygments_lexer": "ipython3",
   "version": "3.7.0"
  }
 },
 "nbformat": 4,
 "nbformat_minor": 2
}
