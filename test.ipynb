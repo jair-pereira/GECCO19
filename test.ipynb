{
 "cells": [
  {
   "cell_type": "code",
   "execution_count": 27,
   "metadata": {},
   "outputs": [
    {
     "data": {
      "text/plain": [
       "4.341911398317924"
      ]
     },
     "execution_count": 27,
     "metadata": {},
     "output_type": "execute_result"
    }
   ],
   "source": [
    "import numpy as np\n",
    "import src\n",
    "\n",
    "import testFunctions as tf\n",
    "from animation import animation, animation3D\n",
    "\n",
    "def de():\n",
    "    #instantiate solutions \n",
    "    X = np.array([src.solution(my_func, dimension, bounds) for i in range(n)])\n",
    "    #initialize solutions \n",
    "    [Xi.initRandom() for Xi in X]\n",
    "    \n",
    "    #just so we can have some animations\n",
    "    src.solution.updateHistory(X) # it is not necessary for the grammar\n",
    "    \n",
    "    for it in range(iteration):\n",
    "        #1. Select individuals for modification in this round\n",
    "        # none - select all. Alternative (bee algorythm) is to select only solutions drawn with fitness-dependant probability\n",
    "        #2. de_operator = create an alternative set of solutions X1 using mutation+crossover\n",
    "        X1  = src.op.op_de(X, src.op.select_random, src.op.mut_de, src.op.crx_exponential, **params)\n",
    "        #3. Select individual for the next generation\n",
    "        X = src.op.replace_if_best(X, X1)\n",
    "        \n",
    "        src.solution.updateHistory(X) \n",
    "\n",
    "    return X\n",
    "    \n",
    "##param\n",
    "n = 30\n",
    "iteration = 2\n",
    "\n",
    "my_func   = tf.ackley_function\n",
    "dimension = 5\n",
    "bounds    = -10, 10\n",
    "\n",
    "params = {'beta':.5, 'pr':.7, 'tournamment':5, 'w':.5, 'c1':.5, 'c2':1}\n",
    "\n",
    "de()\n",
    "src.solution.best.getFitness()\n",
    "#animation(src.solution.history, my_func, *bounds)"
   ]
  },
  {
   "cell_type": "code",
   "execution_count": 2,
   "metadata": {},
   "outputs": [
    {
     "data": {
      "text/plain": [
       "4.369884043319333"
      ]
     },
     "execution_count": 2,
     "metadata": {},
     "output_type": "execute_result"
    }
   ],
   "source": [
    "iteration = 5\n",
    "de()\n",
    "src.solution.best.getFitness()"
   ]
  },
  {
   "cell_type": "code",
   "execution_count": 3,
   "metadata": {},
   "outputs": [
    {
     "data": {
      "text/plain": [
       "6.466684771911655"
      ]
     },
     "execution_count": 3,
     "metadata": {},
     "output_type": "execute_result"
    }
   ],
   "source": [
    "iteration = 10\n",
    "de()\n",
    "src.solution.best.getFitness()"
   ]
  },
  {
   "cell_type": "code",
   "execution_count": 4,
   "metadata": {},
   "outputs": [
    {
     "data": {
      "text/plain": [
       "7.848034929833105"
      ]
     },
     "execution_count": 4,
     "metadata": {},
     "output_type": "execute_result"
    }
   ],
   "source": [
    "iteration = 20\n",
    "de()\n",
    "src.solution.best.getFitness()"
   ]
  },
  {
   "cell_type": "code",
   "execution_count": 6,
   "metadata": {},
   "outputs": [
    {
     "data": {
      "text/plain": [
       "8.901120164446802"
      ]
     },
     "execution_count": 6,
     "metadata": {},
     "output_type": "execute_result"
    }
   ],
   "source": [
    "iteration = 100\n",
    "de()\n",
    "src.solution.best.getFitness()"
   ]
  },
  {
   "cell_type": "code",
   "execution_count": 3,
   "metadata": {},
   "outputs": [
    {
     "ename": "NameError",
     "evalue": "name 'x' is not defined",
     "output_type": "error",
     "traceback": [
      "\u001b[0;31m---------------------------------------------------------------------------\u001b[0m",
      "\u001b[0;31mNameError\u001b[0m                                 Traceback (most recent call last)",
      "\u001b[0;32m<ipython-input-3-ffc90f96d2a0>\u001b[0m in \u001b[0;36m<module>\u001b[0;34m()\u001b[0m\n\u001b[0;32m----> 1\u001b[0;31m \u001b[0mx\u001b[0m\u001b[0;34m.\u001b[0m\u001b[0mbest\u001b[0m\u001b[0;34m(\u001b[0m\u001b[0;34m)\u001b[0m\u001b[0;34m\u001b[0m\u001b[0m\n\u001b[0m",
      "\u001b[0;31mNameError\u001b[0m: name 'x' is not defined"
     ]
    }
   ],
   "source": [
    "x.best()"
   ]
  },
  {
   "cell_type": "code",
   "execution_count": 16,
   "metadata": {},
   "outputs": [
    {
     "data": {
      "text/plain": [
       "array([10])"
      ]
     },
     "execution_count": 16,
     "metadata": {},
     "output_type": "execute_result"
    }
   ],
   "source": [
    "X = np.array([src.solution(my_func, dimension, bounds) for i in range(n)])\n",
    "    #initialize solutions \n",
    "[Xi.initRandom() for Xi in X]\n",
    "np.random.choice(X.shape[0], 1)"
   ]
  },
  {
   "cell_type": "code",
   "execution_count": 28,
   "metadata": {},
   "outputs": [],
   "source": [
    "U = np.array([src.solution(X[0].function, X[0].x.shape[0], X[0].limits) for i in range(X.shape[0])])\n",
    "u = np.array([X[i].fitness for i in range(X.shape[0])])"
   ]
  },
  {
   "cell_type": "code",
   "execution_count": 92,
   "metadata": {},
   "outputs": [],
   "source": [
    "\n",
    "    #instantiate solutions \n",
    "X = np.array([src.solution(my_func, dimension, bounds) for i in range(n)])\n",
    "    #initialize solutions \n",
    "[Xi.initRandom() for Xi in X]\n",
    "    \n",
    "    \n",
    "for it in range(iteration):\n",
    "        #1. Select individuals for modification in this round\n",
    "        # none - select all. Alternative (bee algorythm) is to select only solutions drawn with fitness-dependant probability\n",
    "        #2. de_operator = create an alternative set of solutions X1 using mutation+crossover\n",
    "    X  = src.op.op_de(X, src.op.select_random, src.op.mut_de, src.op.crx_exponential, **params)\n",
    "        #3. Select individual for the next generation\n",
    "    X = src.op.replace_if_best(X, X1)\n",
    "    u = np.array([(X[i].fitness, i) for i in range(X.shape[0])])\n",
    "#     v = u.sort(X, key=fitness) \n",
    "    \n",
    "# X[1].fitness\n",
    "# X.shape[0]\n",
    "# u = sorted(u, key=lambda x:x[0])\n",
    "# for i in range(len(u)//2):\n",
    "#     if np.random() < pa:\n",
    "#         ind = int(u[i][1])\n",
    "#         X[ind] = initRandom(X[ind])\n",
    "\n"
   ]
  },
  {
   "cell_type": "code",
   "execution_count": 69,
   "metadata": {},
   "outputs": [
    {
     "data": {
      "text/plain": [
       "array([ 8.51230616, -4.00468998, 15.24115881,  3.80482329,  6.62362067])"
      ]
     },
     "execution_count": 69,
     "metadata": {},
     "output_type": "execute_result"
    }
   ],
   "source": [
    "X[4].x\n",
    "X[4]."
   ]
  },
  {
   "cell_type": "code",
   "execution_count": 82,
   "metadata": {},
   "outputs": [],
   "source": [
    "X[5].initRandom()"
   ]
  },
  {
   "cell_type": "code",
   "execution_count": 84,
   "metadata": {},
   "outputs": [
    {
     "name": "stdout",
     "output_type": "stream",
     "text": [
      "<src.solution.solution object at 0x121f13940>\n"
     ]
    }
   ],
   "source": [
    "print(X[4])"
   ]
  },
  {
   "cell_type": "code",
   "execution_count": 85,
   "metadata": {},
   "outputs": [
    {
     "name": "stdout",
     "output_type": "stream",
     "text": [
      "<src.solution.solution object at 0x121f00208>\n",
      "<src.solution.solution object at 0x121f06160>\n",
      "<src.solution.solution object at 0x121f00c88>\n",
      "<src.solution.solution object at 0x121f135c0>\n",
      "<src.solution.solution object at 0x121f00b38>\n",
      "<src.solution.solution object at 0x121ee7160>\n",
      "<src.solution.solution object at 0x121f06898>\n",
      "<src.solution.solution object at 0x121f13668>\n"
     ]
    }
   ],
   "source": [
    "pa = 0.25\n",
    "\n",
    "[Xi.getFitness() for Xi in X]\n",
    "u = np.array([(X[i].fitness, i) for i in range(X.shape[0])])\n",
    "u = sorted(u, key=lambda x:x[0])\n",
    "for i in range(20):\n",
    "    if np.random.random() < pa:\n",
    "        ind = int(u[i][1])\n",
    "        X[ind].initRandom()\n",
    "        print(X[ind])\n"
   ]
  },
  {
   "cell_type": "code",
   "execution_count": 102,
   "metadata": {},
   "outputs": [
    {
     "ename": "TypeError",
     "evalue": "unsupported operand type(s) for -: 'float' and 'NoneType'",
     "output_type": "error",
     "traceback": [
      "\u001b[0;31m---------------------------------------------------------------------------\u001b[0m",
      "\u001b[0;31mTypeError\u001b[0m                                 Traceback (most recent call last)",
      "\u001b[0;32m<ipython-input-102-8de8b03598a7>\u001b[0m in \u001b[0;36m<module>\u001b[0;34m()\u001b[0m\n\u001b[0;32m----> 1\u001b[0;31m \u001b[0mu\u001b[0m \u001b[0;34m=\u001b[0m \u001b[0mnp\u001b[0m\u001b[0;34m.\u001b[0m\u001b[0marray\u001b[0m\u001b[0;34m(\u001b[0m\u001b[0;34m[\u001b[0m\u001b[0mmut_cs\u001b[0m\u001b[0;34m(\u001b[0m\u001b[0mX\u001b[0m\u001b[0;34m[\u001b[0m\u001b[0mi\u001b[0m\u001b[0;34m]\u001b[0m\u001b[0;34m)\u001b[0m \u001b[0;32mfor\u001b[0m \u001b[0mi\u001b[0m \u001b[0;32min\u001b[0m \u001b[0mrange\u001b[0m\u001b[0;34m(\u001b[0m\u001b[0mX\u001b[0m\u001b[0;34m.\u001b[0m\u001b[0mshape\u001b[0m\u001b[0;34m[\u001b[0m\u001b[0;36m0\u001b[0m\u001b[0;34m]\u001b[0m\u001b[0;34m)\u001b[0m\u001b[0;34m]\u001b[0m\u001b[0;34m)\u001b[0m\u001b[0;34m\u001b[0m\u001b[0m\n\u001b[0m\u001b[1;32m      2\u001b[0m \u001b[0mu\u001b[0m\u001b[0;34m\u001b[0m\u001b[0m\n",
      "\u001b[0;32m<ipython-input-102-8de8b03598a7>\u001b[0m in \u001b[0;36m<listcomp>\u001b[0;34m(.0)\u001b[0m\n\u001b[0;32m----> 1\u001b[0;31m \u001b[0mu\u001b[0m \u001b[0;34m=\u001b[0m \u001b[0mnp\u001b[0m\u001b[0;34m.\u001b[0m\u001b[0marray\u001b[0m\u001b[0;34m(\u001b[0m\u001b[0;34m[\u001b[0m\u001b[0mmut_cs\u001b[0m\u001b[0;34m(\u001b[0m\u001b[0mX\u001b[0m\u001b[0;34m[\u001b[0m\u001b[0mi\u001b[0m\u001b[0;34m]\u001b[0m\u001b[0;34m)\u001b[0m \u001b[0;32mfor\u001b[0m \u001b[0mi\u001b[0m \u001b[0;32min\u001b[0m \u001b[0mrange\u001b[0m\u001b[0;34m(\u001b[0m\u001b[0mX\u001b[0m\u001b[0;34m.\u001b[0m\u001b[0mshape\u001b[0m\u001b[0;34m[\u001b[0m\u001b[0;36m0\u001b[0m\u001b[0;34m]\u001b[0m\u001b[0;34m)\u001b[0m\u001b[0;34m]\u001b[0m\u001b[0;34m)\u001b[0m\u001b[0;34m\u001b[0m\u001b[0m\n\u001b[0m\u001b[1;32m      2\u001b[0m \u001b[0mu\u001b[0m\u001b[0;34m\u001b[0m\u001b[0m\n",
      "\u001b[0;32m<ipython-input-101-7ae1b71bf784>\u001b[0m in \u001b[0;36mmut_cs\u001b[0;34m(x1, x2, x3, **param)\u001b[0m\n\u001b[1;32m      8\u001b[0m \u001b[0;34m\u001b[0m\u001b[0m\n\u001b[1;32m      9\u001b[0m     \u001b[0mx1\u001b[0m\u001b[0;34m.\u001b[0m\u001b[0mgetFitness\u001b[0m\u001b[0;34m(\u001b[0m\u001b[0;34m)\u001b[0m\u001b[0;34m\u001b[0m\u001b[0m\n\u001b[0;32m---> 10\u001b[0;31m     \u001b[0mstepsize\u001b[0m \u001b[0;34m=\u001b[0m \u001b[0;36m0.2\u001b[0m \u001b[0;34m*\u001b[0m \u001b[0mstep\u001b[0m \u001b[0;34m*\u001b[0m \u001b[0;34m(\u001b[0m\u001b[0mx1\u001b[0m\u001b[0;34m.\u001b[0m\u001b[0mx\u001b[0m \u001b[0;34m-\u001b[0m \u001b[0mx1\u001b[0m\u001b[0;34m.\u001b[0m\u001b[0mpbest\u001b[0m\u001b[0;34m)\u001b[0m\u001b[0;34m\u001b[0m\u001b[0m\n\u001b[0m\u001b[1;32m     11\u001b[0m     \u001b[0mu\u001b[0m \u001b[0;34m=\u001b[0m \u001b[0mx1\u001b[0m\u001b[0;34m.\u001b[0m\u001b[0mx\u001b[0m \u001b[0;34m+\u001b[0m \u001b[0mstepsize\u001b[0m\u001b[0;34m\u001b[0m\u001b[0m\n\u001b[1;32m     12\u001b[0m \u001b[0;34m\u001b[0m\u001b[0m\n",
      "\u001b[0;31mTypeError\u001b[0m: unsupported operand type(s) for -: 'float' and 'NoneType'"
     ]
    }
   ],
   "source": [
    "u = np.array([mut_cs(X[i]) for i in range(X.shape[0])])\n",
    "u"
   ]
  },
  {
   "cell_type": "code",
   "execution_count": 103,
   "metadata": {},
   "outputs": [],
   "source": [
    "from math import gamma, pi, sin\n",
    "def mut_cs(x1, x2=None, x3=None, **param): \n",
    "    beta = 3 / 2\n",
    "    sigma = (gamma(1 + beta) * sin(pi * beta / 2) / (gamma((1 + beta) / 2) * beta * 2 ** ((beta - 1) / 2))) ** (1 / beta)\n",
    "    w = np.array(np.random.standard_normal(x1.x.shape)) * sigma\n",
    "    v = np.array(np.random.standard_normal(x1.x.shape))\n",
    "    step = w / abs(v) ** (1 / beta)\n",
    "\n",
    "    x1.getFitness()\n",
    "    stepsize = 0.2 * step * (x1.x - x1.pbest)\n",
    "    u = x1.x + stepsize\n",
    "\n",
    "    return u"
   ]
  },
  {
   "cell_type": "code",
   "execution_count": 111,
   "metadata": {},
   "outputs": [],
   "source": [
    "def select_random(X, array, k=1, replace=True):\n",
    "    return np.random.choice(array, k, replace=replace)\n",
    "idx_tmp = np.arange(X.shape[0])\n",
    "idx = np.array([np.append([i], select_random(X, np.delete(idx_tmp, i), 3, replace=False)) for i in range(X.shape[0])])\n"
   ]
  },
  {
   "cell_type": "code",
   "execution_count": 112,
   "metadata": {},
   "outputs": [
    {
     "data": {
      "text/plain": [
       "array([[ 0,  9, 13,  8],\n",
       "       [ 1,  6, 27, 26],\n",
       "       [ 2, 23, 16, 26],\n",
       "       [ 3,  8,  7, 18],\n",
       "       [ 4, 16, 15, 22],\n",
       "       [ 5, 22,  3, 29],\n",
       "       [ 6, 28,  7, 21],\n",
       "       [ 7,  0,  5, 19],\n",
       "       [ 8, 10, 14, 19],\n",
       "       [ 9, 29, 22, 20],\n",
       "       [10,  3, 16,  4],\n",
       "       [11,  7, 27, 12],\n",
       "       [12, 20,  9, 21],\n",
       "       [13, 28,  7, 27],\n",
       "       [14,  1,  3, 11],\n",
       "       [15, 26,  1,  0],\n",
       "       [16, 13, 28,  2],\n",
       "       [17, 19,  8,  3],\n",
       "       [18, 12, 20, 16],\n",
       "       [19, 27, 23, 10],\n",
       "       [20, 24, 14, 15],\n",
       "       [21, 16, 27,  8],\n",
       "       [22, 28,  3, 15],\n",
       "       [23,  8, 29, 19],\n",
       "       [24, 21,  2,  1],\n",
       "       [25, 14,  2, 11],\n",
       "       [26, 10,  4, 12],\n",
       "       [27, 25, 13,  0],\n",
       "       [28,  8, 27,  2],\n",
       "       [29,  0, 11, 28]])"
      ]
     },
     "execution_count": 112,
     "metadata": {},
     "output_type": "execute_result"
    }
   ],
   "source": [
    "idx"
   ]
  },
  {
   "cell_type": "code",
   "execution_count": null,
   "metadata": {},
   "outputs": [],
   "source": []
  }
 ],
 "metadata": {
  "kernelspec": {
   "display_name": "Python 3",
   "language": "python",
   "name": "python3"
  },
  "language_info": {
   "codemirror_mode": {
    "name": "ipython",
    "version": 3
   },
   "file_extension": ".py",
   "mimetype": "text/x-python",
   "name": "python",
   "nbconvert_exporter": "python",
   "pygments_lexer": "ipython3",
   "version": "3.7.0"
  }
 },
 "nbformat": 4,
 "nbformat_minor": 2
}
