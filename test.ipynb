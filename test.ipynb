{
 "cells": [
  {
   "cell_type": "code",
   "execution_count": 2,
   "metadata": {},
   "outputs": [
    {
     "data": {
      "text/plain": [
       "3.6421474462889516"
      ]
     },
     "execution_count": 2,
     "metadata": {},
     "output_type": "execute_result"
    }
   ],
   "source": [
    "import numpy as np\n",
    "import src\n",
    "\n",
    "import testFunctions as tf\n",
    "from animation import animation, animation3D\n",
    "\n",
    "def de():\n",
    "    #instantiate solutions \n",
    "    X = np.array([src.solution(my_func, dimension, bounds) for i in range(n)])\n",
    "    #initialize solutions \n",
    "    [Xi.initRandom() for Xi in X]\n",
    "    \n",
    "    #just so we can have some animations\n",
    "    src.solution.updateHistory(X) # it is not necessary for the grammar\n",
    "    \n",
    "    for it in range(iteration):\n",
    "        #1. Select individuals for modification in this round\n",
    "        # none - select all. Alternative (bee algorythm) is to select only solutions drawn with fitness-dependant probability\n",
    "        #2. de_operator = create an alternative set of solutions X1 using mutation+crossover\n",
    "        X1  = src.op.op_de(X, src.op.select_random, src.op.mut_de, src.op.crx_exponential, **params)\n",
    "        #3. Select individual for the next generation\n",
    "        X = src.op.replace_if_best(X, X1)\n",
    "        \n",
    "        src.solution.updateHistory(X) \n",
    "\n",
    "    return X\n",
    "    \n",
    "##param\n",
    "n = 30\n",
    "iteration = 2\n",
    "\n",
    "my_func   = tf.ackley_function\n",
    "dimension = 5\n",
    "bounds    = -10, 10\n",
    "\n",
    "params = {'beta':.5, 'pr':.7, 'tournamment':5, 'w':.5, 'c1':.5, 'c2':1}\n",
    "\n",
    "de()\n",
    "src.solution.best.getFitness()\n",
    "#animation(src.solution.history, my_func, *bounds)"
   ]
  },
  {
   "cell_type": "code",
   "execution_count": 2,
   "metadata": {},
   "outputs": [
    {
     "data": {
      "text/plain": [
       "4.369884043319333"
      ]
     },
     "execution_count": 2,
     "metadata": {},
     "output_type": "execute_result"
    }
   ],
   "source": [
    "iteration = 5\n",
    "de()\n",
    "src.solution.best.getFitness()"
   ]
  },
  {
   "cell_type": "code",
   "execution_count": 3,
   "metadata": {},
   "outputs": [
    {
     "data": {
      "text/plain": [
       "6.466684771911655"
      ]
     },
     "execution_count": 3,
     "metadata": {},
     "output_type": "execute_result"
    }
   ],
   "source": [
    "iteration = 10\n",
    "de()\n",
    "src.solution.best.getFitness()"
   ]
  },
  {
   "cell_type": "code",
   "execution_count": 4,
   "metadata": {},
   "outputs": [
    {
     "data": {
      "text/plain": [
       "7.848034929833105"
      ]
     },
     "execution_count": 4,
     "metadata": {},
     "output_type": "execute_result"
    }
   ],
   "source": [
    "iteration = 20\n",
    "de()\n",
    "src.solution.best.getFitness()"
   ]
  },
  {
   "cell_type": "code",
   "execution_count": 6,
   "metadata": {},
   "outputs": [
    {
     "data": {
      "text/plain": [
       "8.901120164446802"
      ]
     },
     "execution_count": 6,
     "metadata": {},
     "output_type": "execute_result"
    }
   ],
   "source": [
    "iteration = 100\n",
    "de()\n",
    "src.solution.best.getFitness()"
   ]
  },
  {
   "cell_type": "code",
   "execution_count": 3,
   "metadata": {},
   "outputs": [
    {
     "ename": "NameError",
     "evalue": "name 'x' is not defined",
     "output_type": "error",
     "traceback": [
      "\u001b[0;31m---------------------------------------------------------------------------\u001b[0m",
      "\u001b[0;31mNameError\u001b[0m                                 Traceback (most recent call last)",
      "\u001b[0;32m<ipython-input-3-ffc90f96d2a0>\u001b[0m in \u001b[0;36m<module>\u001b[0;34m()\u001b[0m\n\u001b[0;32m----> 1\u001b[0;31m \u001b[0mx\u001b[0m\u001b[0;34m.\u001b[0m\u001b[0mbest\u001b[0m\u001b[0;34m(\u001b[0m\u001b[0;34m)\u001b[0m\u001b[0;34m\u001b[0m\u001b[0m\n\u001b[0m",
      "\u001b[0;31mNameError\u001b[0m: name 'x' is not defined"
     ]
    }
   ],
   "source": [
    "x.best()"
   ]
  },
  {
   "cell_type": "code",
   "execution_count": 12,
   "metadata": {},
   "outputs": [
    {
     "data": {
      "text/plain": [
       "array([7])"
      ]
     },
     "execution_count": 12,
     "metadata": {},
     "output_type": "execute_result"
    }
   ],
   "source": [
    "X = np.array([src.solution(my_func, dimension, bounds) for i in range(n)])\n",
    "    #initialize solutions \n",
    "[Xi.initRandom() for Xi in X]\n",
    "np.random.choice(X.shape[0], 1)"
   ]
  },
  {
   "cell_type": "code",
   "execution_count": null,
   "metadata": {},
   "outputs": [],
   "source": []
  }
 ],
 "metadata": {
  "kernelspec": {
   "display_name": "Python 3",
   "language": "python",
   "name": "python3"
  },
  "language_info": {
   "codemirror_mode": {
    "name": "ipython",
    "version": 3
   },
   "file_extension": ".py",
   "mimetype": "text/x-python",
   "name": "python",
   "nbconvert_exporter": "python",
   "pygments_lexer": "ipython3",
   "version": "3.7.0"
  }
 },
 "nbformat": 4,
 "nbformat_minor": 2
}
