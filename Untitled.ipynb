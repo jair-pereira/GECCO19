{
 "cells": [
  {
   "cell_type": "code",
   "execution_count": 12,
   "metadata": {},
   "outputs": [],
   "source": [
    "import numpy as np\n",
    "import pandas as pd\n",
    "import sys, pickle\n",
    "import cocoex, cocopp\n",
    "#from src.algorithm import parameters as ponyge\n",
    "\n",
    "def process_training_log():\n",
    "    #load data\n",
    "    data_log = pd.read_csv(\"./results/\"+experiment_name+\"/log.csv\", header=None)\n",
    "\n",
    "    #header\n",
    "    header = [\"GENERATIONS\", \"PRECISION\", \"FIT_MEDIAN\"]\n",
    "    for i in range(1, data_log.shape[1] - 2):\n",
    "        header.append(\"FIT_INDV_\"+str(i))\n",
    "    data_log.columns = header\n",
    "    \n",
    "    return data_log\n",
    "\n",
    "def get_best_indv():\n",
    "    pdlog = process_training_log()\n",
    "    filter_precision = pdlog[pdlog['PRECISION'] == pdlog['PRECISION'].min()]\n",
    "    \n",
    "    generation = -1\n",
    "    fitness = 0\n",
    "    for i, row in filter_precision.filter(regex=\"FIT_INDV\").iterrows():\n",
    "        bestfitness = row.max()\n",
    "    \n",
    "        if bestfitness >= fitness:\n",
    "            generation = i\n",
    "            fitness    = bestfitness\n",
    "            \n",
    "    return generation\n",
    "\n",
    "def write_log(d_fitness, result):\n",
    "    file = open(\"./results/\"+experiment_name+\"/_testing.txt\", 'w')\n",
    "    \n",
    "    header = []\n",
    "    header.append(\"hh_fit\")\n",
    "    for key in d_fitness.keys():\n",
    "        header.append(key)\n",
    "    file.write(\",\".join(map(str,header))+\"\\n\")\n",
    "    \n",
    "    data = []\n",
    "    data.append(result)\n",
    "    for val in d_fitness.values():\n",
    "        data.append(val)\n",
    "    file.write(\",\".join(map(str,data))+\"\\n\")\n",
    "                \n",
    "    file.flush()\n",
    "    file.close()\n",
    "    \n",
    "    return\n",
    "                \n",
    "def experiment_test(experiment_name, max_nfe, precision, suite):\n",
    "    #bbob optimums\n",
    "    file = open(\"src/bbob_final_target_fvalue1.pkl\",'rb')\n",
    "    ftarget_values = pickle.load(file)\n",
    "    file.close()\n",
    "\n",
    "    #extract code\n",
    "    #ponyge.load_params(\"./results/\"+experiment_name+\"/parameters.txt\")\n",
    "    file = open(\"./results/\"+experiment_name+\"/\"+str(get_best_indv())+\".txt\", 'r')\n",
    "    best = file.readlines()\n",
    "    file.close()\n",
    "\n",
    "    code = \"import numpy as np\\nfrom src.src.solution import Solution\\nimport src.src.operators as op\\n\"\n",
    "    for line in best[6:-8]:    code += line\n",
    "                \n",
    "    #run code on each problem in suite\n",
    "    d_target_hit = {}\n",
    "    d_fitness    = {}\n",
    "    for problem in suite:\n",
    "        d = {\n",
    "            \"max_nfe\"  : max_nfe, \n",
    "            \"dimension\": problem.dimension,\n",
    "            \"my_func\"  : problem,\n",
    "            \"bounds\"   : (problem.lower_bounds[0], problem.upper_bounds[0])\n",
    "            }\n",
    "\n",
    "        exec(code, d)\n",
    "\n",
    "        d_fitness[problem.id] = d['XXX_output_XXX']\n",
    "        d_target_hit[problem.id] = 0\n",
    "        if np.abs(d_fitness[problem.id] - ftarget_values[problem.id]) <= precision:\n",
    "            d_target_hit[problem.id] = 1\n",
    "\n",
    "    result = sum(d_target_hit.values()) / len(suite)\n",
    "\n",
    "    #write results to a file\n",
    "    write_log(d_fitness, result)\n",
    "    \n",
    "    \n",
    "if __name__ == \"__main__\":\n",
    "    precision   = float(sys.argv[1])\n",
    "    max_nfe     = int(sys.argv[2])\n",
    "    experiments = sys.argv[3:]\n",
    "    suite = cocoex.Suite(\"bbob\", \"\", \"function_indices:1,15 dimensions:20,40 instance_indices:1-10\")\n",
    "    \n",
    "    for experiment_name in experiments:\n",
    "        experiment_test(experiment_name, max_nfe, precision, suite)"
   ]
  },
  {
   "cell_type": "code",
   "execution_count": 3,
   "metadata": {},
   "outputs": [],
   "source": [
    "experiment_name = \"dummy\""
   ]
  },
  {
   "cell_type": "code",
   "execution_count": 13,
   "metadata": {},
   "outputs": [],
   "source": []
  },
  {
   "cell_type": "code",
   "execution_count": 14,
   "metadata": {},
   "outputs": [],
   "source": []
  },
  {
   "cell_type": "code",
   "execution_count": 21,
   "metadata": {},
   "outputs": [
    {
     "data": {
      "text/html": [
       "<div>\n",
       "<style scoped>\n",
       "    .dataframe tbody tr th:only-of-type {\n",
       "        vertical-align: middle;\n",
       "    }\n",
       "\n",
       "    .dataframe tbody tr th {\n",
       "        vertical-align: top;\n",
       "    }\n",
       "\n",
       "    .dataframe thead th {\n",
       "        text-align: right;\n",
       "    }\n",
       "</style>\n",
       "<table border=\"1\" class=\"dataframe\">\n",
       "  <thead>\n",
       "    <tr style=\"text-align: right;\">\n",
       "      <th></th>\n",
       "      <th>FIT_INDV_1</th>\n",
       "      <th>FIT_INDV_2</th>\n",
       "      <th>FIT_INDV_3</th>\n",
       "      <th>FIT_INDV_4</th>\n",
       "      <th>FIT_INDV_5</th>\n",
       "      <th>FIT_INDV_6</th>\n",
       "      <th>FIT_INDV_7</th>\n",
       "      <th>FIT_INDV_8</th>\n",
       "      <th>FIT_INDV_9</th>\n",
       "      <th>FIT_INDV_10</th>\n",
       "      <th>FIT_INDV_11</th>\n",
       "      <th>FIT_INDV_12</th>\n",
       "    </tr>\n",
       "  </thead>\n",
       "  <tbody>\n",
       "    <tr>\n",
       "      <th>9</th>\n",
       "      <td>1.0</td>\n",
       "      <td>0.95</td>\n",
       "      <td>0.9</td>\n",
       "      <td>0.85</td>\n",
       "      <td>0.75</td>\n",
       "      <td>0.7</td>\n",
       "      <td>0.7</td>\n",
       "      <td>0.65</td>\n",
       "      <td>0.65</td>\n",
       "      <td>0.6</td>\n",
       "      <td>0.6</td>\n",
       "      <td>0.50</td>\n",
       "    </tr>\n",
       "    <tr>\n",
       "      <th>10</th>\n",
       "      <td>1.0</td>\n",
       "      <td>1.00</td>\n",
       "      <td>0.9</td>\n",
       "      <td>0.85</td>\n",
       "      <td>0.85</td>\n",
       "      <td>0.8</td>\n",
       "      <td>0.8</td>\n",
       "      <td>0.75</td>\n",
       "      <td>0.75</td>\n",
       "      <td>0.7</td>\n",
       "      <td>0.7</td>\n",
       "      <td>0.65</td>\n",
       "    </tr>\n",
       "  </tbody>\n",
       "</table>\n",
       "</div>"
      ],
      "text/plain": [
       "    FIT_INDV_1  FIT_INDV_2  FIT_INDV_3  FIT_INDV_4  FIT_INDV_5  FIT_INDV_6  \\\n",
       "9          1.0        0.95         0.9        0.85        0.75         0.7   \n",
       "10         1.0        1.00         0.9        0.85        0.85         0.8   \n",
       "\n",
       "    FIT_INDV_7  FIT_INDV_8  FIT_INDV_9  FIT_INDV_10  FIT_INDV_11  FIT_INDV_12  \n",
       "9          0.7        0.65        0.65          0.6          0.6         0.50  \n",
       "10         0.8        0.75        0.75          0.7          0.7         0.65  "
      ]
     },
     "execution_count": 21,
     "metadata": {},
     "output_type": "execute_result"
    }
   ],
   "source": []
  },
  {
   "cell_type": "code",
   "execution_count": 24,
   "metadata": {},
   "outputs": [],
   "source": []
  },
  {
   "cell_type": "code",
   "execution_count": 30,
   "metadata": {},
   "outputs": [
    {
     "data": {
      "text/plain": [
       "2"
      ]
     },
     "execution_count": 30,
     "metadata": {},
     "output_type": "execute_result"
    }
   ],
   "source": [
    "np.argmax(result)"
   ]
  },
  {
   "cell_type": "code",
   "execution_count": 31,
   "metadata": {},
   "outputs": [
    {
     "data": {
      "text/plain": [
       "[[9, 1.0], [10, 1.0]]"
      ]
     },
     "execution_count": 31,
     "metadata": {},
     "output_type": "execute_result"
    }
   ],
   "source": [
    "result"
   ]
  },
  {
   "cell_type": "code",
   "execution_count": null,
   "metadata": {},
   "outputs": [],
   "source": []
  }
 ],
 "metadata": {
  "kernelspec": {
   "display_name": "Python 3",
   "language": "python",
   "name": "python3"
  },
  "language_info": {
   "codemirror_mode": {
    "name": "ipython",
    "version": 3
   },
   "file_extension": ".py",
   "mimetype": "text/x-python",
   "name": "python",
   "nbconvert_exporter": "python",
   "pygments_lexer": "ipython3",
   "version": "3.6.5"
  }
 },
 "nbformat": 4,
 "nbformat_minor": 2
}
